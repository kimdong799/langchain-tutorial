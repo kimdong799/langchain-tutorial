{
  "nbformat": 4,
  "nbformat_minor": 0,
  "metadata": {
    "colab": {
      "provenance": [],
      "authorship_tag": "ABX9TyMHGjtLeM+WlNFuxMJov5f8",
      "include_colab_link": true
    },
    "kernelspec": {
      "name": "python3",
      "display_name": "Python 3"
    },
    "language_info": {
      "name": "python"
    }
  },
  "cells": [
    {
      "cell_type": "markdown",
      "metadata": {
        "id": "view-in-github",
        "colab_type": "text"
      },
      "source": [
        "<a href=\"https://colab.research.google.com/github/kimdong799/langchain-tutorial/blob/main/LangChain_Tutorial.ipynb\" target=\"_parent\"><img src=\"https://colab.research.google.com/assets/colab-badge.svg\" alt=\"Open In Colab\"/></a>"
      ]
    },
    {
      "cell_type": "markdown",
      "source": [
        "# CH01 LangChain 시작하기"
      ],
      "metadata": {
        "id": "Niy_7YoD6Cr7"
      }
    },
    {
      "cell_type": "code",
      "execution_count": null,
      "metadata": {
        "colab": {
          "base_uri": "https://localhost:8080/"
        },
        "id": "_yePa_2i554y",
        "outputId": "9b5b32d7-d4ba-4755-b6e5-b7e19cadb00a"
      },
      "outputs": [
        {
          "output_type": "stream",
          "name": "stdout",
          "text": [
            "Mounted at /content/drive\n"
          ]
        }
      ],
      "source": [
        "from google.colab import drive\n",
        "drive.mount(\"/content/drive\")"
      ]
    },
    {
      "cell_type": "code",
      "source": [
        "# AI 답변 확인용\n",
        "from IPython.display import Markdown\n",
        "\n",
        "import os\n",
        "os.environ[\"GOOGLE_API_KEY\"] = \"MY API KEY\""
      ],
      "metadata": {
        "id": "6rWA97Bv6MpA"
      },
      "execution_count": null,
      "outputs": []
    },
    {
      "cell_type": "code",
      "source": [],
      "metadata": {
        "id": "W0b8R6i46OJE"
      },
      "execution_count": null,
      "outputs": []
    }
  ]
}