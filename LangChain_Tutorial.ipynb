{
  "nbformat": 4,
  "nbformat_minor": 0,
  "metadata": {
    "colab": {
      "provenance": [],
      "toc_visible": true,
      "authorship_tag": "ABX9TyOKVIHvUyrN/hIpbCRJE8L/"
    },
    "kernelspec": {
      "name": "python3",
      "display_name": "Python 3"
    },
    "language_info": {
      "name": "python"
    }
  },
  "cells": [
    {
      "cell_type": "markdown",
      "source": [
        "# CH01 LangChain 시작하기"
      ],
      "metadata": {
        "id": "Niy_7YoD6Cr7"
      }
    },
    {
      "cell_type": "code",
      "execution_count": null,
      "metadata": {
        "colab": {
          "base_uri": "https://localhost:8080/"
        },
        "id": "_yePa_2i554y",
        "outputId": "9b5b32d7-d4ba-4755-b6e5-b7e19cadb00a"
      },
      "outputs": [
        {
          "output_type": "stream",
          "name": "stdout",
          "text": [
            "Mounted at /content/drive\n"
          ]
        }
      ],
      "source": [
        "from google.colab import drive\n",
        "drive.mount(\"/content/drive\")"
      ]
    },
    {
      "cell_type": "code",
      "source": [
        "%pip install -U --quiet langchain-google-genai"
      ],
      "metadata": {
        "colab": {
          "base_uri": "https://localhost:8080/"
        },
        "id": "MVzTwnQn7n8Q",
        "outputId": "d005089f-479c-4847-f847-4b0082b004fd"
      },
      "execution_count": 4,
      "outputs": [
        {
          "output_type": "stream",
          "name": "stdout",
          "text": [
            "\u001b[2K     \u001b[90m━━━━━━━━━━━━━━━━━━━━━━━━━━━━━━━━━━━━━━━━\u001b[0m \u001b[32m308.5/308.5 kB\u001b[0m \u001b[31m12.4 MB/s\u001b[0m eta \u001b[36m0:00:00\u001b[0m\n",
            "\u001b[2K     \u001b[90m━━━━━━━━━━━━━━━━━━━━━━━━━━━━━━━━━━━━━━━━\u001b[0m \u001b[32m122.3/122.3 kB\u001b[0m \u001b[31m13.8 MB/s\u001b[0m eta \u001b[36m0:00:00\u001b[0m\n",
            "\u001b[2K     \u001b[90m━━━━━━━━━━━━━━━━━━━━━━━━━━━━━━━━━━━━━━━━\u001b[0m \u001b[32m53.0/53.0 kB\u001b[0m \u001b[31m6.0 MB/s\u001b[0m eta \u001b[36m0:00:00\u001b[0m\n",
            "\u001b[2K     \u001b[90m━━━━━━━━━━━━━━━━━━━━━━━━━━━━━━━━━━━━━━━━\u001b[0m \u001b[32m142.5/142.5 kB\u001b[0m \u001b[31m15.4 MB/s\u001b[0m eta \u001b[36m0:00:00\u001b[0m\n",
            "\u001b[?25h"
          ]
        }
      ]
    },
    {
      "cell_type": "code",
      "source": [
        "# AI 답변 확인용\n",
        "from IPython.display import Markdown\n",
        "\n",
        "import os\n",
        "os.environ[\"GOOGLE_API_KEY\"] = \"API KEY\""
      ],
      "metadata": {
        "id": "6rWA97Bv6MpA"
      },
      "execution_count": null,
      "outputs": []
    },
    {
      "cell_type": "markdown",
      "source": [
        "## LangChain Expression Language (LCEL)\n",
        "\n"
      ],
      "metadata": {
        "id": "fTL86mvr7RTv"
      }
    },
    {
      "cell_type": "markdown",
      "source": [
        "### PromptTemplate"
      ],
      "metadata": {
        "id": "1lklnjaJ7fR3"
      }
    },
    {
      "cell_type": "code",
      "source": [
        "%pip install -U --quiet langchain"
      ],
      "metadata": {
        "colab": {
          "base_uri": "https://localhost:8080/"
        },
        "id": "o6Ymo0Rz7qoO",
        "outputId": "7cd24efb-9a83-40c3-a92a-c42423e290ad"
      },
      "execution_count": 5,
      "outputs": [
        {
          "output_type": "stream",
          "name": "stdout",
          "text": [
            "\u001b[2K     \u001b[90m━━━━━━━━━━━━━━━━━━━━━━━━━━━━━━━━━━━━━━━━\u001b[0m \u001b[32m973.7/973.7 kB\u001b[0m \u001b[31m10.6 MB/s\u001b[0m eta \u001b[36m0:00:00\u001b[0m\n",
            "\u001b[2K     \u001b[90m━━━━━━━━━━━━━━━━━━━━━━━━━━━━━━━━━━━━━━━━\u001b[0m \u001b[32m49.3/49.3 kB\u001b[0m \u001b[31m5.0 MB/s\u001b[0m eta \u001b[36m0:00:00\u001b[0m\n",
            "\u001b[?25h"
          ]
        }
      ]
    },
    {
      "cell_type": "code",
      "source": [
        "from langchain.prompts import PromptTemplate\n",
        "\n",
        "# template 정의\n",
        "template = \"\"\"\n",
        "당신은 식물에 대해 많은 정보를 알고있는 식물 관련 질문 전용 봇입니다. 사용자의 질문에 [FORMAT]에 맞추어 답변해 주세요.\n",
        "답변은 항상 한글로 작성해 주세요.\n",
        "\n",
        "질문:\n",
        "{question}에 대하여 설명해 주세요.\n",
        "\n",
        "FORMAT:\n",
        "- 식물:\n",
        "- 답변:\n",
        "- 출처:\n",
        "\"\"\"\n",
        "\n",
        "# from_template 메소드를 이용하여 PromptTemplate 객체 생성\n",
        "prompt_template = PromptTemplate.from_template(template)\n",
        "prompt_template"
      ],
      "metadata": {
        "id": "W0b8R6i46OJE",
        "colab": {
          "base_uri": "https://localhost:8080/"
        },
        "outputId": "cb27e2d3-7118-4d7f-8822-157e9667674a"
      },
      "execution_count": 27,
      "outputs": [
        {
          "output_type": "execute_result",
          "data": {
            "text/plain": [
              "PromptTemplate(input_variables=['question'], template='\\n당신은 식물에 대해 많은 정보를 알고있는 식물 관련 질문 전용 봇입니다. 사용자의 질문에 [FORMAT]에 맞추어 답변해 주세요.\\n답변은 항상 한글로 작성해 주세요.\\n\\n질문:\\n{question}에 대하여 설명해 주세요.\\n\\nFORMAT:\\n- 식물:\\n- 답변:\\n- 출처:\\n')"
            ]
          },
          "metadata": {},
          "execution_count": 27
        }
      ]
    },
    {
      "cell_type": "markdown",
      "source": [
        "### Model(LLM)\n",
        "`ChatOpenAI`\n",
        "OpenAI 사의 채팅 전용 LLM.\n",
        "객체를 생성할 때 다음 옵션 값 지정 가능\n",
        "`temperature`\n",
        "- 사용할 샘플링 온도는 0과 2 사이에서 선택.\n",
        "- 0.8과 같은 높은 값은 출력을 더 무작위하게 만들고, 0.2와 같은 낮은 값은 출력을 더 집중되고 결정론적으로 만든다.\n",
        "\n",
        "`max_tokens`\n",
        "- 채팅 완성에서 생성할 토큰의 최대 개수.\n",
        "\n",
        "`model_name`\n",
        "- https://platform.openai.com/docs/models"
      ],
      "metadata": {
        "id": "hg8sYzYA8KFB"
      }
    },
    {
      "cell_type": "code",
      "source": [
        "%pip install -U --quiet langchain-google-genai"
      ],
      "metadata": {
        "id": "UjQz8jEe9JlP"
      },
      "execution_count": 10,
      "outputs": []
    },
    {
      "cell_type": "code",
      "source": [
        "from langchain_google_genai import ChatGoogleGenerativeAI\n",
        "\n",
        "llm = ChatGoogleGenerativeAI(\n",
        "    model=\"gemini-pro\",\n",
        "    temperature=0.8,\n",
        "    max_tokens=100,\n",
        ")\n",
        "llm"
      ],
      "metadata": {
        "colab": {
          "base_uri": "https://localhost:8080/"
        },
        "id": "sXV4zXD78GIJ",
        "outputId": "51f45293-d981-4a94-8b53-6e54662bddaf"
      },
      "execution_count": 37,
      "outputs": [
        {
          "output_type": "execute_result",
          "data": {
            "text/plain": [
              "ChatGoogleGenerativeAI(model='models/gemini-pro', temperature=0.8, client=<google.ai.generativelanguage_v1beta.services.generative_service.client.GenerativeServiceClient object at 0x7d938c07e9e0>, async_client=<google.ai.generativelanguage_v1beta.services.generative_service.async_client.GenerativeServiceAsyncClient object at 0x7d938c07f0a0>, default_metadata=())"
            ]
          },
          "metadata": {},
          "execution_count": 37
        }
      ]
    },
    {
      "cell_type": "markdown",
      "source": [
        "### Output"
      ],
      "metadata": {
        "id": "vGsZiTFY9ZR1"
      }
    },
    {
      "cell_type": "code",
      "source": [
        "from langchain_core.output_parsers import StrOutputParser\n",
        "\n",
        "output_parser = StrOutputParser()"
      ],
      "metadata": {
        "id": "cViUXlkS8y22"
      },
      "execution_count": 38,
      "outputs": []
    },
    {
      "cell_type": "markdown",
      "source": [
        "## Chain 생성\n",
        "- LCED을 사용하여 다양한 구성 요소를 단일 체인으로 결합."
      ],
      "metadata": {
        "id": "hhkNid5v9ktN"
      }
    },
    {
      "cell_type": "code",
      "source": [
        "chain = prompt_template | llm | output_parser"
      ],
      "metadata": {
        "id": "Ksz8u9dh9gAa"
      },
      "execution_count": 39,
      "outputs": []
    },
    {
      "cell_type": "code",
      "source": [
        "result = chain.invoke({\"question\": \"바질은 물을 주는 주기가 어떻게 되고 어느정도 기다려야 다 자라나요?\"})\n",
        "Markdown(result)"
      ],
      "metadata": {
        "colab": {
          "base_uri": "https://localhost:8080/",
          "height": 135
        },
        "id": "B1zJ2Uzj9tXc",
        "outputId": "4eb8542a-761d-4a86-b3ab-a9fcfcbb5ee6"
      },
      "execution_count": 41,
      "outputs": [
        {
          "output_type": "execute_result",
          "data": {
            "text/plain": [
              "<IPython.core.display.Markdown object>"
            ],
            "text/markdown": "- 식물: 바질\n- 답변:\n바질은 물을 많이 필요한 식물이지만 과도하게 물을 주면 뿌리가 썩을 수 있습니다. 흙이 마를 때까지 기다렸다가 물을 주는 것이 중요합니다. 여름철에는 매일 물을 주고, 봄과 가을에는 일주일에 2-3회, 겨울에는 일주일에 한 번 물을 주면 됩니다.\n\n바질은 종자에서 재배하는 데 약 6-8주가 소요됩니다. 모종을 사용하면 성장 시간이 약 4-6주 단축됩니다.\n- 출처:\n[바질 재배 가이드](https://www.gardeners.com/how-to/basil/7143.html)"
          },
          "metadata": {},
          "execution_count": 41
        }
      ]
    },
    {
      "cell_type": "markdown",
      "source": [
        "### LECL 인터페이스\n",
        "- 사용자 정의 체인을 가능한 쉽게 만들 수 있도록 \"Runnable\" 프로토콜이 구현됨.\n",
        "- `Runnable` 프로토콜은 대부분의 컴포넌트에 구현되어있다.\n",
        "  - `stream` : 응답의 청크를 스트리밍한다.\n",
        "  - `invoke` : 입력에 대해 체인을 호출한다.\n",
        "  - `batch` : 입력 목록에 대해 체인을 호출한다.\n",
        "- 비동기 메소드\n",
        "  - `astream` : 비동기적으로 응답의 청크를 스트리밍한다.\n",
        "  - `ainvoke` : 비동기적으로 입력에 대해 체인을 호출한다.\n",
        "  - `abatch` : 비동기적으로 입력 목록에 대해 체인을 호출한다.\n",
        "  - `astream_log` : 최종 응답뿐만 아니라 발생하는 중간 단계를 스트리밍한다.\n",
        "\n",
        "\n",
        "- **입력 타입**과 **출력 타입**은 컴포넌트에 따라 다르다.\n",
        "![image.png](data:image/png;base64,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)"
      ],
      "metadata": {
        "id": "QJ4Pyho6B2ix"
      }
    },
    {
      "cell_type": "markdown",
      "source": [
        "### stream : 실시간 출력\n",
        "- `chain.stream` 메소드를 사용해 주어진 토픽에 대한 데이터 스트림을 생성\n",
        "- 스트림을 반복하여 각 데이터 내용(`content`)을 즉시 출력.\n",
        "- `end=''` 인자는 출력 후 줄바꿈을 하지 않도록 설정\n",
        "- `flush=True` 인자는 출력 버퍼를 즉시 비우도록 한다."
      ],
      "metadata": {
        "id": "1KhqpjLoKzyg"
      }
    },
    {
      "cell_type": "code",
      "source": [
        "# chain.stream 메소드를 사용하여 질문에 대한 스트림을 생성하고 반복\n",
        "\n",
        "for s in chain.stream({\"question\": \"고구마는 언제 심어야 가장 적합하나요?\"}):\n",
        "  print(s, end=\"\", flush=True,)"
      ],
      "metadata": {
        "colab": {
          "base_uri": "https://localhost:8080/"
        },
        "id": "RL5s15eRGtrc",
        "outputId": "2573783a-7b7d-43e0-833a-97c6e6810b42"
      },
      "execution_count": 45,
      "outputs": [
        {
          "output_type": "stream",
          "name": "stdout",
          "text": [
            "- 식물: 고구마\n",
            "- 답변: 고구마는 따뜻한 날씨를 좋아하는 식물이므로, 마지막 서리가 내린 후 2~3주 후인 5월 중순에서 6월 초에 심는 것이 가장 적합합니다.\n",
            "- 출처: https://www.gardeners.com/how-to/sweet-potatoes/7174.html"
          ]
        }
      ]
    },
    {
      "cell_type": "markdown",
      "source": [
        "### invoke : 호출\n",
        "`chain` 객체의 `invoke` 메소드는 주제를 인자로 받아 해당 주제에 대한 처리를 수행한다."
      ],
      "metadata": {
        "id": "Z2e8xortL00D"
      }
    },
    {
      "cell_type": "code",
      "source": [
        "chain.invoke({\"question\": \"곰취랑 헷갈리기 쉬운 독초를 알려줘\"})"
      ],
      "metadata": {
        "colab": {
          "base_uri": "https://localhost:8080/",
          "height": 36
        },
        "id": "CA4nc3dsLr6j",
        "outputId": "053b539c-f062-4159-9db8-6fca75c44ca4"
      },
      "execution_count": 46,
      "outputs": [
        {
          "output_type": "execute_result",
          "data": {
            "text/plain": [
              "'- 식물: 독수리머리\\n- 답변: 곰취랑과 비슷한 모양새를 하고 있지만, 잎에 털이 없고 잎가장자리가 매끈합니다. 또한 곰취랑과 달리 꽃이 피지 않습니다.\\n- 출처: 국립식물원'"
            ],
            "application/vnd.google.colaboratory.intrinsic+json": {
              "type": "string"
            }
          },
          "metadata": {},
          "execution_count": 46
        }
      ]
    },
    {
      "cell_type": "markdown",
      "source": [
        "### batc : 배치 (단위 실행)\n",
        "- `chain.batch`는 여러 개의 딕셔너리를 포함하는 리스트를 인자로 받아, 각 딕셔너리에 있는 값을 이용하여 일괄 처리 수행"
      ],
      "metadata": {
        "id": "sH9lFFYpML64"
      }
    },
    {
      "cell_type": "code",
      "source": [
        "chain.batch(\n",
        "    [\n",
        "        {\"question\": \"몬스테라 잎이 갈라지게 하는 방법을 알려줘\"},\n",
        "        {\"question\": \"냉이는 주로 어디에 서식하고 사람의 몸에 무엇이 좋은지 알려줘\"},\n",
        "    ]\n",
        ")"
      ],
      "metadata": {
        "colab": {
          "base_uri": "https://localhost:8080/"
        },
        "id": "SBnC0p7HMIaZ",
        "outputId": "01931dd3-7363-44da-f3e3-214456e1d166"
      },
      "execution_count": 47,
      "outputs": [
        {
          "output_type": "execute_result",
          "data": {
            "text/plain": [
              "['- 식물: 몬스테라\\n- 답변: 몬스테라 잎이 갈라지게 하려면 다음 방법을 시도해 보세요.\\n  - **밝은 간접광 제공하기:** 몬스테라는 밝은 간접광을 선호합니다. 직사광선에 노출하면 잎이 타므로 피하세요.\\n  - **적절히 물주기:** 몬스테라의 흙이 건조하면 물을 주세요. 너무 많이 또는 너무 적게 물주면 잎 갈라짐에 영향을 미칠 수 있습니다.\\n  - **비료 주기:** 성장기 동안 2주에 한 번씩 희석한 액비를 주세요. 비료에는 엽맥을 강화하고 잎 갈라짐을 촉진하는 미량 영양소가 들어 있습니다.\\n  - **크기 조절하기:** 몬스테라가 너무 커지면 잎이 갈라지지 않을 수 있습니다. 정기적으로 가지 치기하여 크기를 조절하세요.\\n  - **공기 순환 제공하기:** 좋은 공기 순환은 잎 갈라짐에 도움이 됩니다. 팬이나 환풍기를 사용하여 공기를 순환시키세요.\\n- 출처:\\n  - [몬스테라 갈라진 잎 만들기 5가지 팁](https://www.thespruce.com/get-split-leaves-on-monstera-5193491)\\n  - [몬스테라 잎 갈라지게 하기](https://www.gardenersworld.com/plants/how-to-get-split-leaves-on-a-monstera/)',\n",
              " '- 식물: 냉이\\n- 답변:\\n   - 냉이는 유럽, 아시아, 북아메리카 등 온대 지역에 주로 서식하는 다년생 초본 식물입니다.\\n   - 냉이의 잎, 줄기, 뿌리는 항염증, 진통, 해열, 항균 성분을 포함하고 있어 전통적으로 의약 목적으로 사용되어 왔습니다.\\n   - 특히 냉이잎에는 비타민 C와 항산화제가 풍부하여 면역력을 강화하고 피부 건강에 도움이 되는 것으로 알려져 있습니다.\\n- 출처:\\n   - 위키백과: https://ko.wikipedia.org/wiki/%EB%83%89%EC%9D%B4\\n   - 국립농업과학원: https://www.naas.go.kr/mbs/naas/subview.jsp?id=naas090101000000']"
            ]
          },
          "metadata": {},
          "execution_count": 47
        }
      ]
    },
    {
      "cell_type": "markdown",
      "source": [
        "- `max_concurrency` 매개변수를 사용하여 동시 요청 수를 설정할 수 있다.\n",
        "- 함수 `chain.batch`는 여러 작업을 동시에 처리할 수 있도록 배치 작업을 생성한다.\n",
        "- `config` 딕셔너리는 `max_concurrency` 키를 통해 동시에 처리할 수 있는 최대 작업 수를 설정한다."
      ],
      "metadata": {
        "id": "Tcxgi-zTMybe"
      }
    },
    {
      "cell_type": "code",
      "source": [
        "chain.batch(\n",
        "    [\n",
        "        {\"question\": \"몬스테라 잎이 갈라지게 하는 방법을 알려줘\"},\n",
        "        {\"question\": \"냉이는 주로 어디에 서식하고 사람의 몸에 무엇이 좋은지 알려줘\"},\n",
        "        {\"question\": \"배추는 언제 수확하는게 좋아?\"},\n",
        "        {\"question\": \"산딸기 재배 방법을 알려줘\"},\n",
        "        {\"question\": \"하우스 딸기는 언제가 가장 맛있어?\"},\n",
        "    ],\n",
        "    config={\n",
        "        \"max_concurrency\": 3\n",
        "    },\n",
        ")"
      ],
      "metadata": {
        "colab": {
          "base_uri": "https://localhost:8080/"
        },
        "id": "4tRJXe_XMsqw",
        "outputId": "294b2e27-469c-4297-ce34-e9ac551eda8c"
      },
      "execution_count": 48,
      "outputs": [
        {
          "output_type": "execute_result",
          "data": {
            "text/plain": [
              "['- 식물: 몬스테라\\n- 답변: 몬스테라 잎이 갈라지게 하려면 다음과 같은 방법이 있습니다.\\n  - **밝은 빛 제공:** 강한 간접광이나 필터링된 햇빛이 잎의 성장과 갈라짐을 자극합니다.\\n  - **규칙적인 물주기:** 몬스테라는 물이 많은 환경을 선호합니다. 흙이 마르면 물을 주지만, 과도하게 물을 주면 뿌리 썩음이 발생할 수 있습니다.\\n  - **비료 공급:** 성장기(봄과 여름)에 몬스테라에 희석된 비료를 주는데, 이렇게 하면 식물에 영양분이 공급되어 잎의 발달이 촉진됩니다.\\n  - **지지대 제공:** 잎이 무거워지면서 늘어지는 것을 방지하려면 모스 폴 또는 나무 지지대를 제공하세요.\\n  - **클라이밍 허용:** 몬스테라는 자연적으로 기어오르는 식물이므로, 벽이나 격자에 기어오르도록 허용하면 잎이 더 크고 갈라지게 됩니다.\\n- 출처: https://www.thespruce.com/how-to-get-more-holes-in-monstera-leaves-5196431',\n",
              " '**식물:** 냉이\\n\\n**답변:**\\n\\n냉이는 북반구의 온대 및 한대 지역에 널리 분포되어 있습니다. 대한민국의 경우 전국에 분포하며, 산이나 들에서 자랍니다.\\n\\n냉이는 식용 및 약용으로 오랫동안 사용되어 왔습니다. 뿌리와 잎에 다음과 같은 효능이 있는 것으로 알려져 있습니다.\\n\\n* 항산화 작용\\n* 항염증 작용\\n* 면역력 향상\\n* 소화 개선\\n* 피부 건강 증진\\n\\n특히 냉이 뿌리는 다음과 같은 건강상의 이점이 있는 것으로 여겨집니다.\\n\\n* 혈당 조절\\n* 혈압 조절\\n* 콜레스테롤 수치 개선\\n* 신장 기능 개선\\n\\n**출처:**\\n\\n* 국립생태원, \"냉이\"\\n* 한의학연구정보센터, \"냉이\"\\n* 미국 농무부 국립농업도서관, \"냉이\"',\n",
              " '- 식물: 배추\\n\\n- 답변: 배추는 겨울철에 수확하는 것이 가장 좋습니다. 일반적으로 늦가을(10월~11월)에 수확하며, 낮은 기온에 노출되면 단맛이 증가합니다.\\n\\n- 출처:\\n* [배추 수확 시기와 방법](https://www.gardeners.com/how-to/harvesting-cabbage/7152.html)\\n* [배추 재배 가이드](https://extension.umn.edu/vegetables/growing-cabbage-and-other-cole-crops)',\n",
              " '- 식물: 산딸기\\n- 답변:\\n**산딸기 재배 방법**\\n\\n**1. 적합한 지역 선택**\\n* 햇빛이 잘 드는 곳을 선택하세요.\\n* 배수가 잘 되고 유기물이 풍부한 산성 토양(pH 4.5~5.5)이 필요합니다.\\n\\n**2. 식물 선택**\\n* 질병에 강하고 생산성이 높은 품종을 선택하세요.\\n* 딸기나 무주주(Ever-bearing) 품종 중에서 선택할 수 있습니다.\\n\\n**3. 심기**\\n* 봄이나 가을에 식물을 심으세요.\\n* 뿌리 줄기가 땅 표면과 평행한지 확인하세요.\\n* 식물 간격은 30~45cm로 하세요.\\n\\n**4. 관수**\\n* 규칙적으로 물을 주세요. 특히 건조한 기간에는 더 자주 물을 주어야 합니다.\\n* 잎이나 과일에 물을 대지 마세요.\\n\\n**5. 시비**\\n* 봄과 가을에 유기물이나 딸기 전용 비료를 주세요.\\n* 과도한 시비는 피하세요.\\n\\n**6. 멀칭**\\n* 짚이나 송기화와 같은 멀칭재를 식물 주변에 펴세요.\\n* 이렇게 하면 잡초를 억제하고 뿌리 주변에 습기를 유지하는 데 도움이 됩니다.\\n\\n**7. 가지치기**\\n* 가을에 늙은 잎과 줄기를 제거하세요.\\n* 딸기는 다음해에 새 줄기에서 과일을 맺습니다.\\n\\n**8. 질병 예방**\\n* 식물을 건강하게 유지하여 질병에 대한 저항력을 키우세요.\\n* 범용 살균제를 살포하여 질병을 예방할 수 있습니다.\\n\\n**9. 해충 관리**\\n* 민달팽이, 딱정벌레, 진딧물을 비롯한 해충을 주시하세요.\\n* 유기적 해충 구제법이나 살충제를 사용하여 해충을 관리하세요.\\n\\n**출처:**\\n* 한국농촌진흥청: https://www.naas.go.kr/\\n* 미국농무부: https://www.usda.gov/\\n* 딸기 재배자 협회: https://www.strawberrygrowers.org/',\n",
              " '- 식물: 하우스 딸기\\n- 답변: 하우스 딸기는 늦여름에서 가을에 걸쳐 가장 맛있습니다. 이 시기에 딸기는 햇빛을 충분히 받아 단맛이 많이 차고 향도 강해집니다.\\n- 출처: https://www.gardeningknowhow.com/edible/fruits/strawberries/growing-strawberries-in-winter.htm']"
            ]
          },
          "metadata": {},
          "execution_count": 48
        }
      ]
    },
    {
      "cell_type": "markdown",
      "source": [
        "### 멀티 체인 (Multi-Chain)"
      ],
      "metadata": {
        "id": "cYH3cT-fNu-J"
      }
    },
    {
      "cell_type": "markdown",
      "source": [
        "- 여러 체인을 연결하거나 복합적으로 작용하는 것은 멀티 체인(Multi Chain) 구조를 통해 이루어짐\n",
        "- 각기 다른 목적을 가진 여러 체인을 조합하여 입력 데이터를 다양한 방식으로 처리\n",
        "- 복잡한 데이터 처리, 의사 결정, AI 기반 작업 흐름 설계에 유용하게 사용됨"
      ],
      "metadata": {
        "id": "ZXjeVc1fN6v_"
      }
    },
    {
      "cell_type": "code",
      "source": [
        "from langchain.prompts import ChatPromptTemplate\n",
        "\n",
        "# PromptTemplate 생성\n",
        "prompt1 = ChatPromptTemplate.from_template(\"translates {korean_word} to English.\")\n",
        "prompt2 = ChatPromptTemplate.from_template(\"explain {english_word} using oxford dictionary to me in Korean.\")"
      ],
      "metadata": {
        "id": "K4HBg9PzN4wI"
      },
      "execution_count": 50,
      "outputs": []
    },
    {
      "cell_type": "code",
      "source": [
        "# LLM 모델 선택\n",
        "llm = ChatGoogleGenerativeAI(\n",
        "    model=\"gemini-pro\",\n",
        ")\n",
        "\n",
        "chain1 = prompt1 | llm | StrOutputParser()\n",
        "chain1.invoke({\"korean_word\": \"인공지능\"})"
      ],
      "metadata": {
        "colab": {
          "base_uri": "https://localhost:8080/",
          "height": 36
        },
        "id": "8PMaxEpuUHSV",
        "outputId": "368f8067-091b-4248-e5c5-79db7206ff19"
      },
      "execution_count": 67,
      "outputs": [
        {
          "output_type": "execute_result",
          "data": {
            "text/plain": [
              "'artificial intelligence'"
            ],
            "application/vnd.google.colaboratory.intrinsic+json": {
              "type": "string"
            }
          },
          "metadata": {},
          "execution_count": 67
        }
      ]
    },
    {
      "cell_type": "code",
      "source": [
        "chain2 = (\n",
        "    {\"english_word\" : chain1}\n",
        "    | prompt2\n",
        "    | llm\n",
        "    | StrOutputParser()\n",
        ")\n",
        "\n",
        "chain2.invoke({\"korean_word\": \"인공지능\"})"
      ],
      "metadata": {
        "colab": {
          "base_uri": "https://localhost:8080/",
          "height": 74
        },
        "id": "x33R5eWzVzKb",
        "outputId": "d1125b79-30e0-4ff1-99c1-3b7544d54f9d"
      },
      "execution_count": 61,
      "outputs": [
        {
          "output_type": "execute_result",
          "data": {
            "text/plain": [
              "'**옥스포드 영어 사전에 따른 인공 지능(Artificial intelligence)**\\n\\n인공 지능은 인간의 지적 능력을 모방하는 컴퓨터 시스템입니다. 이러한 능력에는 다음이 포함됩니다.\\n\\n* **학습:** 새로운 지식과 기술을 습득하는 능력\\n* **추론:** 새로운 정보를 기반으로 결론을 도출하는 능력\\n* **문제 해결:** 복잡한 문제를 해결하는 능력\\n* **의사 의사 결정:** 불확실성 속에서 최선의 행동을 선택하는 능력\\n* **자연어 처리:** 인간 언어를 이해하고 생성하는 능력\\n* **시각적 인식:** 이미지와 영상을 인식하고 해석하는 능력\\n\\n인공 지능 시스템은 의료 진단, 재무 계획, 고객 서비스, 자율 주행 차량 등 다양한 분야에 사용됩니다.'"
            ],
            "application/vnd.google.colaboratory.intrinsic+json": {
              "type": "string"
            }
          },
          "metadata": {},
          "execution_count": 61
        }
      ]
    },
    {
      "cell_type": "markdown",
      "source": [
        "## 프롬프트(Prompt)\n",
        "\n",
        "- 프롬프트는 사용자와 언어 모델 간의 대화에서 질문이나 요청의 형태로 제시되는 입력문.\n",
        "\n",
        "### 프롬프트 작성 원칙\n",
        "\n",
        "1. **명확성과 구체성**\n",
        "- 질문은 명확하고 구체적으로.\n",
        "- 예시 : \"Google에서 제공하는 LLM 모델의 종류를 알려줘\"는 \"LLM을 알려줘\" 보다 더 구체적이고 명확한 질문이다.\n",
        "\n",
        "2. **배경 정보를 포함**\n",
        "- 모델이 문맥을 이해할 수 있도록 필요한 배경 정보를 제공하는 것이 좋다.\n",
        "- Hallucination 발생 위험을 낮추고, 관련성이 높은 응답을 생성하는 데 도움을 준다.\n",
        "\n",
        "3. **간결함**\n",
        "- 핵심 정보에 초점을 맞추고, 불필요한 정보는 배제한다.\n",
        "- 프롬프트가 길어지면 모델이 덜 중요한 부분에 집중하거나 상당한 영향을 받는 문제가 발생할 수 있다.\n",
        "\n",
        "4. **열린 질문 사용**\n",
        "- 단순한 '예', '아니오'로 대답할 수 있는 질문보다 더 많은 정보를 제공하는 질문을 유도한다.\n",
        "\n",
        "5. **명확한 목표 설정**\n",
        "- 얻고자 하는 정보의 결과나 유형을 정확하게 정의한다.\n",
        "\n",
        "6. **언어와 문체**\n",
        "- 대화의 맥락에 적합한 언어와 문체를 선택한다."
      ],
      "metadata": {
        "id": "-NlYfoTiW9rL"
      }
    },
    {
      "cell_type": "code",
      "source": [
        "from langchain_core.prompts import PromptTemplate\n",
        "\n",
        "# 여러 변수를 사용하는 방법\n",
        "template_text = \"안녕하세요, 제 이름은 {name}이고, 나이는 {age}살 입니다.\"\n",
        "\n",
        "# PromptTemplate 인스턴스 생성\n",
        "prompt_template = PromptTemplate.from_template(template_text)\n",
        "\n",
        "# prompt 완성\n",
        "filled_prompt = prompt_template.format(name=\"홍길동\", age=30)\n",
        "filled_prompt"
      ],
      "metadata": {
        "colab": {
          "base_uri": "https://localhost:8080/",
          "height": 36
        },
        "id": "xZLebno7Wc7G",
        "outputId": "73ca33e6-358b-499f-e2f2-8c65a5e33fd4"
      },
      "execution_count": 63,
      "outputs": [
        {
          "output_type": "execute_result",
          "data": {
            "text/plain": [
              "'안녕하세요, 제 이름은 홍길동이고, 나이는 30살 입니다.'"
            ],
            "application/vnd.google.colaboratory.intrinsic+json": {
              "type": "string"
            }
          },
          "metadata": {},
          "execution_count": 63
        }
      ]
    },
    {
      "cell_type": "markdown",
      "source": [
        "## 프롬프트 템플릿 결합"
      ],
      "metadata": {
        "id": "BXohAu1eaYlW"
      }
    },
    {
      "cell_type": "code",
      "source": [
        "# 문자열 템플릿 결합 (PromptTemplate + PromptTemplate + 문자열)\n",
        "combined_prompt = (\n",
        "    prompt_template +\n",
        "    PromptTemplate.from_template(\"\\n\\n아버지를 아버지라 부를 수 없습니다.\") + \"\\n\\n{language}로 번역해주세요.\"\n",
        ")\n",
        "\n",
        "combined_prompt"
      ],
      "metadata": {
        "colab": {
          "base_uri": "https://localhost:8080/"
        },
        "id": "osofTXK6aCSY",
        "outputId": "d79c4725-f93b-456d-847a-d83c02a67e5f"
      },
      "execution_count": 64,
      "outputs": [
        {
          "output_type": "execute_result",
          "data": {
            "text/plain": [
              "PromptTemplate(input_variables=['age', 'language', 'name'], template='안녕하세요, 제 이름은 {name}이고, 나이는 {age}살 입니다.\\n\\n아버지를 아버지라 부를 수 없습니다.\\n\\n{language}로 번역해주세요.')"
            ]
          },
          "metadata": {},
          "execution_count": 64
        }
      ]
    },
    {
      "cell_type": "code",
      "source": [
        "combined_prompt.format(name=\"홍길동\", age=30, language=\"영어\")"
      ],
      "metadata": {
        "colab": {
          "base_uri": "https://localhost:8080/",
          "height": 36
        },
        "id": "qinorfDOav5k",
        "outputId": "b6b0ba28-fa06-4f5c-f150-45a9b8bc6659"
      },
      "execution_count": 65,
      "outputs": [
        {
          "output_type": "execute_result",
          "data": {
            "text/plain": [
              "'안녕하세요, 제 이름은 홍길동이고, 나이는 30살 입니다.\\n\\n아버지를 아버지라 부를 수 없습니다.\\n\\n영어로 번역해주세요.'"
            ],
            "application/vnd.google.colaboratory.intrinsic+json": {
              "type": "string"
            }
          },
          "metadata": {},
          "execution_count": 65
        }
      ]
    },
    {
      "cell_type": "code",
      "source": [
        "llm = ChatGoogleGenerativeAI(\n",
        "    model=\"gemini-pro\",\n",
        ")\n",
        "\n",
        "chain = combined_prompt | llm | StrOutputParser()\n",
        "chain.invoke({\n",
        "    \"age\":30,\n",
        "    \"name\":\"홍길동\",\n",
        "    \"language\":\"영어\"\n",
        "})"
      ],
      "metadata": {
        "colab": {
          "base_uri": "https://localhost:8080/",
          "height": 36
        },
        "id": "Obqb2DhEay8t",
        "outputId": "79ff4cb0-890d-4907-a82c-9b8b995d662c"
      },
      "execution_count": 76,
      "outputs": [
        {
          "output_type": "execute_result",
          "data": {
            "text/plain": [
              "'Hello, my name is Hong Gil-dong and I am 30 years old.\\n\\nI cannot call my father \"father\".'"
            ],
            "application/vnd.google.colaboratory.intrinsic+json": {
              "type": "string"
            }
          },
          "metadata": {},
          "execution_count": 76
        }
      ]
    },
    {
      "cell_type": "markdown",
      "source": [
        "## 챗 프롬프트 템플림(ChatPromptTemplate)\n",
        "\n",
        "- ChatPromptTemplate은 대화형 상황에서 여러 메세지 입력을 기반으로 단일 메세지 응답을 생성하는 데 사용됨.\n",
        "- 대화형 모델이나 챗봇 개발에 주로 사용됨.\n",
        "- 각 메세지는 역할(role)과 내용(content)로 구성됨."
      ],
      "metadata": {
        "id": "LOE70gr9dqVZ"
      }
    },
    {
      "cell_type": "markdown",
      "source": [
        "### Message 유형\n",
        "- SystemMessage : 시스템의 기능을 설명\n",
        "- HumanMessage : 사용자의 질문을 나타냄\n",
        "- AllMessage : AI모델의 응답을 제공\n",
        "- FunctionMessage : 특정 함수 호출의 결과를 나타냄\n",
        "- ToolMessage : 도구 호출의 결과를 나타냄"
      ],
      "metadata": {
        "id": "-GJi8E0NgRfJ"
      }
    },
    {
      "cell_type": "code",
      "source": [
        "# 튜플 형태의 메세지 목록으로 프롬프트 생성 (type, content)\n",
        "\n",
        "from langchain_core.prompts import ChatPromptTemplate\n",
        "\n",
        "chat_prompt = ChatPromptTemplate.from_messages([\n",
        "    (\"system\", \"이 시스템은 천문학 질문에 답변할 수 있습니다..\"),\n",
        "    (\"user\", \"{user_input}\")\n",
        "])\n",
        "\n",
        "messages = chat_prompt.format_messages(\n",
        "    user_input=\"태양계에서 가장 큰 행성은 무엇인가요?\"\n",
        ")\n",
        "\n",
        "messages"
      ],
      "metadata": {
        "colab": {
          "base_uri": "https://localhost:8080/"
        },
        "id": "keMUPuu7a1c_",
        "outputId": "f94796f6-0dbf-4d00-d623-9ff7420c781f"
      },
      "execution_count": 74,
      "outputs": [
        {
          "output_type": "execute_result",
          "data": {
            "text/plain": [
              "[SystemMessage(content='이 시스템은 천문학 질문에 답변할 수 있습니다..'),\n",
              " HumanMessage(content='태양계에서 가장 큰 행성은 무엇인가요?')]"
            ]
          },
          "metadata": {},
          "execution_count": 74
        }
      ]
    },
    {
      "cell_type": "code",
      "source": [
        "# prompt, llm, output parser를 순차적인 파이프라인으로 연결하여 chain 구성\n",
        "from langchain_core.output_parsers import StrOutputParser\n",
        "\n",
        "chain = chat_prompt | llm | StrOutputParser()\n",
        "\n",
        "# gemini-pro 모델은 지원 안되는 듯\n",
        "chain.invoke({\"user_input\": \"태양계에서 가장 큰 행성은 무엇인가요?\"})"
      ],
      "metadata": {
        "colab": {
          "base_uri": "https://localhost:8080/",
          "height": 633
        },
        "id": "kB0kOd-OhBm1",
        "outputId": "554be541-66dc-4e16-8a4b-3f8389253287"
      },
      "execution_count": 79,
      "outputs": [
        {
          "output_type": "error",
          "ename": "ChatGoogleGenerativeAIError",
          "evalue": "Invalid argument provided to Gemini: 400 Developer instruction is not enabled for models/gemini-pro",
          "traceback": [
            "\u001b[0;31m---------------------------------------------------------------------------\u001b[0m",
            "\u001b[0;31m_InactiveRpcError\u001b[0m                         Traceback (most recent call last)",
            "\u001b[0;32m/usr/local/lib/python3.10/dist-packages/google/api_core/grpc_helpers.py\u001b[0m in \u001b[0;36merror_remapped_callable\u001b[0;34m(*args, **kwargs)\u001b[0m\n\u001b[1;32m     71\u001b[0m         \u001b[0;32mtry\u001b[0m\u001b[0;34m:\u001b[0m\u001b[0;34m\u001b[0m\u001b[0;34m\u001b[0m\u001b[0m\n\u001b[0;32m---> 72\u001b[0;31m             \u001b[0;32mreturn\u001b[0m \u001b[0mcallable_\u001b[0m\u001b[0;34m(\u001b[0m\u001b[0;34m*\u001b[0m\u001b[0margs\u001b[0m\u001b[0;34m,\u001b[0m \u001b[0;34m**\u001b[0m\u001b[0mkwargs\u001b[0m\u001b[0;34m)\u001b[0m\u001b[0;34m\u001b[0m\u001b[0;34m\u001b[0m\u001b[0m\n\u001b[0m\u001b[1;32m     73\u001b[0m         \u001b[0;32mexcept\u001b[0m \u001b[0mgrpc\u001b[0m\u001b[0;34m.\u001b[0m\u001b[0mRpcError\u001b[0m \u001b[0;32mas\u001b[0m \u001b[0mexc\u001b[0m\u001b[0;34m:\u001b[0m\u001b[0;34m\u001b[0m\u001b[0;34m\u001b[0m\u001b[0m\n",
            "\u001b[0;32m/usr/local/lib/python3.10/dist-packages/grpc/_channel.py\u001b[0m in \u001b[0;36m__call__\u001b[0;34m(self, request, timeout, metadata, credentials, wait_for_ready, compression)\u001b[0m\n\u001b[1;32m   1180\u001b[0m         )\n\u001b[0;32m-> 1181\u001b[0;31m         \u001b[0;32mreturn\u001b[0m \u001b[0m_end_unary_response_blocking\u001b[0m\u001b[0;34m(\u001b[0m\u001b[0mstate\u001b[0m\u001b[0;34m,\u001b[0m \u001b[0mcall\u001b[0m\u001b[0;34m,\u001b[0m \u001b[0;32mFalse\u001b[0m\u001b[0;34m,\u001b[0m \u001b[0;32mNone\u001b[0m\u001b[0;34m)\u001b[0m\u001b[0;34m\u001b[0m\u001b[0;34m\u001b[0m\u001b[0m\n\u001b[0m\u001b[1;32m   1182\u001b[0m \u001b[0;34m\u001b[0m\u001b[0m\n",
            "\u001b[0;32m/usr/local/lib/python3.10/dist-packages/grpc/_channel.py\u001b[0m in \u001b[0;36m_end_unary_response_blocking\u001b[0;34m(state, call, with_call, deadline)\u001b[0m\n\u001b[1;32m   1005\u001b[0m     \u001b[0;32melse\u001b[0m\u001b[0;34m:\u001b[0m\u001b[0;34m\u001b[0m\u001b[0;34m\u001b[0m\u001b[0m\n\u001b[0;32m-> 1006\u001b[0;31m         \u001b[0;32mraise\u001b[0m \u001b[0m_InactiveRpcError\u001b[0m\u001b[0;34m(\u001b[0m\u001b[0mstate\u001b[0m\u001b[0;34m)\u001b[0m  \u001b[0;31m# pytype: disable=not-instantiable\u001b[0m\u001b[0;34m\u001b[0m\u001b[0;34m\u001b[0m\u001b[0m\n\u001b[0m\u001b[1;32m   1007\u001b[0m \u001b[0;34m\u001b[0m\u001b[0m\n",
            "\u001b[0;31m_InactiveRpcError\u001b[0m: <_InactiveRpcError of RPC that terminated with:\n\tstatus = StatusCode.INVALID_ARGUMENT\n\tdetails = \"Developer instruction is not enabled for models/gemini-pro\"\n\tdebug_error_string = \"UNKNOWN:Error received from peer ipv4:142.250.31.95:443 {grpc_message:\"Developer instruction is not enabled for models/gemini-pro\", grpc_status:3, created_time:\"2024-05-23T08:19:49.72979559+00:00\"}\"\n>",
            "\nThe above exception was the direct cause of the following exception:\n",
            "\u001b[0;31mInvalidArgument\u001b[0m                           Traceback (most recent call last)",
            "\u001b[0;32m/usr/local/lib/python3.10/dist-packages/langchain_google_genai/chat_models.py\u001b[0m in \u001b[0;36m_chat_with_retry\u001b[0;34m(**kwargs)\u001b[0m\n\u001b[1;32m    169\u001b[0m         \u001b[0;32mtry\u001b[0m\u001b[0;34m:\u001b[0m\u001b[0;34m\u001b[0m\u001b[0;34m\u001b[0m\u001b[0m\n\u001b[0;32m--> 170\u001b[0;31m             \u001b[0;32mreturn\u001b[0m \u001b[0mgeneration_method\u001b[0m\u001b[0;34m(\u001b[0m\u001b[0;34m**\u001b[0m\u001b[0mkwargs\u001b[0m\u001b[0;34m)\u001b[0m\u001b[0;34m\u001b[0m\u001b[0;34m\u001b[0m\u001b[0m\n\u001b[0m\u001b[1;32m    171\u001b[0m         \u001b[0;31m# Do not retry for these errors.\u001b[0m\u001b[0;34m\u001b[0m\u001b[0;34m\u001b[0m\u001b[0m\n",
            "\u001b[0;32m/usr/local/lib/python3.10/dist-packages/google/ai/generativelanguage_v1beta/services/generative_service/client.py\u001b[0m in \u001b[0;36mgenerate_content\u001b[0;34m(self, request, model, contents, retry, timeout, metadata)\u001b[0m\n\u001b[1;32m    811\u001b[0m         \u001b[0;31m# Send the request.\u001b[0m\u001b[0;34m\u001b[0m\u001b[0;34m\u001b[0m\u001b[0m\n\u001b[0;32m--> 812\u001b[0;31m         response = rpc(\n\u001b[0m\u001b[1;32m    813\u001b[0m             \u001b[0mrequest\u001b[0m\u001b[0;34m,\u001b[0m\u001b[0;34m\u001b[0m\u001b[0;34m\u001b[0m\u001b[0m\n",
            "\u001b[0;32m/usr/local/lib/python3.10/dist-packages/google/api_core/gapic_v1/method.py\u001b[0m in \u001b[0;36m__call__\u001b[0;34m(self, timeout, retry, *args, **kwargs)\u001b[0m\n\u001b[1;32m    112\u001b[0m \u001b[0;34m\u001b[0m\u001b[0m\n\u001b[0;32m--> 113\u001b[0;31m         \u001b[0;32mreturn\u001b[0m \u001b[0mwrapped_func\u001b[0m\u001b[0;34m(\u001b[0m\u001b[0;34m*\u001b[0m\u001b[0margs\u001b[0m\u001b[0;34m,\u001b[0m \u001b[0;34m**\u001b[0m\u001b[0mkwargs\u001b[0m\u001b[0;34m)\u001b[0m\u001b[0;34m\u001b[0m\u001b[0;34m\u001b[0m\u001b[0m\n\u001b[0m\u001b[1;32m    114\u001b[0m \u001b[0;34m\u001b[0m\u001b[0m\n",
            "\u001b[0;32m/usr/local/lib/python3.10/dist-packages/google/api_core/retry.py\u001b[0m in \u001b[0;36mretry_wrapped_func\u001b[0;34m(*args, **kwargs)\u001b[0m\n\u001b[1;32m    348\u001b[0m             )\n\u001b[0;32m--> 349\u001b[0;31m             return retry_target(\n\u001b[0m\u001b[1;32m    350\u001b[0m                 \u001b[0mtarget\u001b[0m\u001b[0;34m,\u001b[0m\u001b[0;34m\u001b[0m\u001b[0;34m\u001b[0m\u001b[0m\n",
            "\u001b[0;32m/usr/local/lib/python3.10/dist-packages/google/api_core/retry.py\u001b[0m in \u001b[0;36mretry_target\u001b[0;34m(target, predicate, sleep_generator, timeout, on_error, **kwargs)\u001b[0m\n\u001b[1;32m    190\u001b[0m         \u001b[0;32mtry\u001b[0m\u001b[0;34m:\u001b[0m\u001b[0;34m\u001b[0m\u001b[0;34m\u001b[0m\u001b[0m\n\u001b[0;32m--> 191\u001b[0;31m             \u001b[0;32mreturn\u001b[0m \u001b[0mtarget\u001b[0m\u001b[0;34m(\u001b[0m\u001b[0;34m)\u001b[0m\u001b[0;34m\u001b[0m\u001b[0;34m\u001b[0m\u001b[0m\n\u001b[0m\u001b[1;32m    192\u001b[0m \u001b[0;34m\u001b[0m\u001b[0m\n",
            "\u001b[0;32m/usr/local/lib/python3.10/dist-packages/google/api_core/timeout.py\u001b[0m in \u001b[0;36mfunc_with_timeout\u001b[0;34m(*args, **kwargs)\u001b[0m\n\u001b[1;32m    119\u001b[0m \u001b[0;34m\u001b[0m\u001b[0m\n\u001b[0;32m--> 120\u001b[0;31m             \u001b[0;32mreturn\u001b[0m \u001b[0mfunc\u001b[0m\u001b[0;34m(\u001b[0m\u001b[0;34m*\u001b[0m\u001b[0margs\u001b[0m\u001b[0;34m,\u001b[0m \u001b[0;34m**\u001b[0m\u001b[0mkwargs\u001b[0m\u001b[0;34m)\u001b[0m\u001b[0;34m\u001b[0m\u001b[0;34m\u001b[0m\u001b[0m\n\u001b[0m\u001b[1;32m    121\u001b[0m \u001b[0;34m\u001b[0m\u001b[0m\n",
            "\u001b[0;32m/usr/local/lib/python3.10/dist-packages/google/api_core/grpc_helpers.py\u001b[0m in \u001b[0;36merror_remapped_callable\u001b[0;34m(*args, **kwargs)\u001b[0m\n\u001b[1;32m     73\u001b[0m         \u001b[0;32mexcept\u001b[0m \u001b[0mgrpc\u001b[0m\u001b[0;34m.\u001b[0m\u001b[0mRpcError\u001b[0m \u001b[0;32mas\u001b[0m \u001b[0mexc\u001b[0m\u001b[0;34m:\u001b[0m\u001b[0;34m\u001b[0m\u001b[0;34m\u001b[0m\u001b[0m\n\u001b[0;32m---> 74\u001b[0;31m             \u001b[0;32mraise\u001b[0m \u001b[0mexceptions\u001b[0m\u001b[0;34m.\u001b[0m\u001b[0mfrom_grpc_error\u001b[0m\u001b[0;34m(\u001b[0m\u001b[0mexc\u001b[0m\u001b[0;34m)\u001b[0m \u001b[0;32mfrom\u001b[0m \u001b[0mexc\u001b[0m\u001b[0;34m\u001b[0m\u001b[0;34m\u001b[0m\u001b[0m\n\u001b[0m\u001b[1;32m     75\u001b[0m \u001b[0;34m\u001b[0m\u001b[0m\n",
            "\u001b[0;31mInvalidArgument\u001b[0m: 400 Developer instruction is not enabled for models/gemini-pro",
            "\nThe above exception was the direct cause of the following exception:\n",
            "\u001b[0;31mChatGoogleGenerativeAIError\u001b[0m               Traceback (most recent call last)",
            "\u001b[0;32m<ipython-input-79-aa22e98b9269>\u001b[0m in \u001b[0;36m<cell line: 6>\u001b[0;34m()\u001b[0m\n\u001b[1;32m      4\u001b[0m \u001b[0mchain\u001b[0m \u001b[0;34m=\u001b[0m \u001b[0mchat_prompt\u001b[0m \u001b[0;34m|\u001b[0m \u001b[0mllm\u001b[0m \u001b[0;34m|\u001b[0m \u001b[0mStrOutputParser\u001b[0m\u001b[0;34m(\u001b[0m\u001b[0;34m)\u001b[0m\u001b[0;34m\u001b[0m\u001b[0;34m\u001b[0m\u001b[0m\n\u001b[1;32m      5\u001b[0m \u001b[0;34m\u001b[0m\u001b[0m\n\u001b[0;32m----> 6\u001b[0;31m \u001b[0mchain\u001b[0m\u001b[0;34m.\u001b[0m\u001b[0minvoke\u001b[0m\u001b[0;34m(\u001b[0m\u001b[0;34m{\u001b[0m\u001b[0;34m\"user_input\"\u001b[0m\u001b[0;34m:\u001b[0m \u001b[0;34m\"태양계에서 가장 큰 행성은 무엇인가요?\"\u001b[0m\u001b[0;34m}\u001b[0m\u001b[0;34m)\u001b[0m\u001b[0;34m\u001b[0m\u001b[0;34m\u001b[0m\u001b[0m\n\u001b[0m",
            "\u001b[0;32m/usr/local/lib/python3.10/dist-packages/langchain_core/runnables/base.py\u001b[0m in \u001b[0;36minvoke\u001b[0;34m(self, input, config)\u001b[0m\n\u001b[1;32m   2391\u001b[0m         \u001b[0;32mtry\u001b[0m\u001b[0;34m:\u001b[0m\u001b[0;34m\u001b[0m\u001b[0;34m\u001b[0m\u001b[0m\n\u001b[1;32m   2392\u001b[0m             \u001b[0;32mfor\u001b[0m \u001b[0mi\u001b[0m\u001b[0;34m,\u001b[0m \u001b[0mstep\u001b[0m \u001b[0;32min\u001b[0m \u001b[0menumerate\u001b[0m\u001b[0;34m(\u001b[0m\u001b[0mself\u001b[0m\u001b[0;34m.\u001b[0m\u001b[0msteps\u001b[0m\u001b[0;34m)\u001b[0m\u001b[0;34m:\u001b[0m\u001b[0;34m\u001b[0m\u001b[0;34m\u001b[0m\u001b[0m\n\u001b[0;32m-> 2393\u001b[0;31m                 input = step.invoke(\n\u001b[0m\u001b[1;32m   2394\u001b[0m                     \u001b[0minput\u001b[0m\u001b[0;34m,\u001b[0m\u001b[0;34m\u001b[0m\u001b[0;34m\u001b[0m\u001b[0m\n\u001b[1;32m   2395\u001b[0m                     \u001b[0;31m# mark each step as a child run\u001b[0m\u001b[0;34m\u001b[0m\u001b[0;34m\u001b[0m\u001b[0m\n",
            "\u001b[0;32m/usr/local/lib/python3.10/dist-packages/langchain_core/language_models/chat_models.py\u001b[0m in \u001b[0;36minvoke\u001b[0;34m(self, input, config, stop, **kwargs)\u001b[0m\n\u001b[1;32m    168\u001b[0m         return cast(\n\u001b[1;32m    169\u001b[0m             \u001b[0mChatGeneration\u001b[0m\u001b[0;34m,\u001b[0m\u001b[0;34m\u001b[0m\u001b[0;34m\u001b[0m\u001b[0m\n\u001b[0;32m--> 170\u001b[0;31m             self.generate_prompt(\n\u001b[0m\u001b[1;32m    171\u001b[0m                 \u001b[0;34m[\u001b[0m\u001b[0mself\u001b[0m\u001b[0;34m.\u001b[0m\u001b[0m_convert_input\u001b[0m\u001b[0;34m(\u001b[0m\u001b[0minput\u001b[0m\u001b[0;34m)\u001b[0m\u001b[0;34m]\u001b[0m\u001b[0;34m,\u001b[0m\u001b[0;34m\u001b[0m\u001b[0;34m\u001b[0m\u001b[0m\n\u001b[1;32m    172\u001b[0m                 \u001b[0mstop\u001b[0m\u001b[0;34m=\u001b[0m\u001b[0mstop\u001b[0m\u001b[0;34m,\u001b[0m\u001b[0;34m\u001b[0m\u001b[0;34m\u001b[0m\u001b[0m\n",
            "\u001b[0;32m/usr/local/lib/python3.10/dist-packages/langchain_core/language_models/chat_models.py\u001b[0m in \u001b[0;36mgenerate_prompt\u001b[0;34m(self, prompts, stop, callbacks, **kwargs)\u001b[0m\n\u001b[1;32m    597\u001b[0m     ) -> LLMResult:\n\u001b[1;32m    598\u001b[0m         \u001b[0mprompt_messages\u001b[0m \u001b[0;34m=\u001b[0m \u001b[0;34m[\u001b[0m\u001b[0mp\u001b[0m\u001b[0;34m.\u001b[0m\u001b[0mto_messages\u001b[0m\u001b[0;34m(\u001b[0m\u001b[0;34m)\u001b[0m \u001b[0;32mfor\u001b[0m \u001b[0mp\u001b[0m \u001b[0;32min\u001b[0m \u001b[0mprompts\u001b[0m\u001b[0;34m]\u001b[0m\u001b[0;34m\u001b[0m\u001b[0;34m\u001b[0m\u001b[0m\n\u001b[0;32m--> 599\u001b[0;31m         \u001b[0;32mreturn\u001b[0m \u001b[0mself\u001b[0m\u001b[0;34m.\u001b[0m\u001b[0mgenerate\u001b[0m\u001b[0;34m(\u001b[0m\u001b[0mprompt_messages\u001b[0m\u001b[0;34m,\u001b[0m \u001b[0mstop\u001b[0m\u001b[0;34m=\u001b[0m\u001b[0mstop\u001b[0m\u001b[0;34m,\u001b[0m \u001b[0mcallbacks\u001b[0m\u001b[0;34m=\u001b[0m\u001b[0mcallbacks\u001b[0m\u001b[0;34m,\u001b[0m \u001b[0;34m**\u001b[0m\u001b[0mkwargs\u001b[0m\u001b[0;34m)\u001b[0m\u001b[0;34m\u001b[0m\u001b[0;34m\u001b[0m\u001b[0m\n\u001b[0m\u001b[1;32m    600\u001b[0m \u001b[0;34m\u001b[0m\u001b[0m\n\u001b[1;32m    601\u001b[0m     async def agenerate_prompt(\n",
            "\u001b[0;32m/usr/local/lib/python3.10/dist-packages/langchain_core/language_models/chat_models.py\u001b[0m in \u001b[0;36mgenerate\u001b[0;34m(self, messages, stop, callbacks, tags, metadata, run_name, run_id, **kwargs)\u001b[0m\n\u001b[1;32m    454\u001b[0m                 \u001b[0;32mif\u001b[0m \u001b[0mrun_managers\u001b[0m\u001b[0;34m:\u001b[0m\u001b[0;34m\u001b[0m\u001b[0;34m\u001b[0m\u001b[0m\n\u001b[1;32m    455\u001b[0m                     \u001b[0mrun_managers\u001b[0m\u001b[0;34m[\u001b[0m\u001b[0mi\u001b[0m\u001b[0;34m]\u001b[0m\u001b[0;34m.\u001b[0m\u001b[0mon_llm_error\u001b[0m\u001b[0;34m(\u001b[0m\u001b[0me\u001b[0m\u001b[0;34m,\u001b[0m \u001b[0mresponse\u001b[0m\u001b[0;34m=\u001b[0m\u001b[0mLLMResult\u001b[0m\u001b[0;34m(\u001b[0m\u001b[0mgenerations\u001b[0m\u001b[0;34m=\u001b[0m\u001b[0;34m[\u001b[0m\u001b[0;34m]\u001b[0m\u001b[0;34m)\u001b[0m\u001b[0;34m)\u001b[0m\u001b[0;34m\u001b[0m\u001b[0;34m\u001b[0m\u001b[0m\n\u001b[0;32m--> 456\u001b[0;31m                 \u001b[0;32mraise\u001b[0m \u001b[0me\u001b[0m\u001b[0;34m\u001b[0m\u001b[0;34m\u001b[0m\u001b[0m\n\u001b[0m\u001b[1;32m    457\u001b[0m         flattened_outputs = [\n\u001b[1;32m    458\u001b[0m             \u001b[0mLLMResult\u001b[0m\u001b[0;34m(\u001b[0m\u001b[0mgenerations\u001b[0m\u001b[0;34m=\u001b[0m\u001b[0;34m[\u001b[0m\u001b[0mres\u001b[0m\u001b[0;34m.\u001b[0m\u001b[0mgenerations\u001b[0m\u001b[0;34m]\u001b[0m\u001b[0;34m,\u001b[0m \u001b[0mllm_output\u001b[0m\u001b[0;34m=\u001b[0m\u001b[0mres\u001b[0m\u001b[0;34m.\u001b[0m\u001b[0mllm_output\u001b[0m\u001b[0;34m)\u001b[0m  \u001b[0;31m# type: ignore[list-item]\u001b[0m\u001b[0;34m\u001b[0m\u001b[0;34m\u001b[0m\u001b[0m\n",
            "\u001b[0;32m/usr/local/lib/python3.10/dist-packages/langchain_core/language_models/chat_models.py\u001b[0m in \u001b[0;36mgenerate\u001b[0;34m(self, messages, stop, callbacks, tags, metadata, run_name, run_id, **kwargs)\u001b[0m\n\u001b[1;32m    444\u001b[0m             \u001b[0;32mtry\u001b[0m\u001b[0;34m:\u001b[0m\u001b[0;34m\u001b[0m\u001b[0;34m\u001b[0m\u001b[0m\n\u001b[1;32m    445\u001b[0m                 results.append(\n\u001b[0;32m--> 446\u001b[0;31m                     self._generate_with_cache(\n\u001b[0m\u001b[1;32m    447\u001b[0m                         \u001b[0mm\u001b[0m\u001b[0;34m,\u001b[0m\u001b[0;34m\u001b[0m\u001b[0;34m\u001b[0m\u001b[0m\n\u001b[1;32m    448\u001b[0m                         \u001b[0mstop\u001b[0m\u001b[0;34m=\u001b[0m\u001b[0mstop\u001b[0m\u001b[0;34m,\u001b[0m\u001b[0;34m\u001b[0m\u001b[0;34m\u001b[0m\u001b[0m\n",
            "\u001b[0;32m/usr/local/lib/python3.10/dist-packages/langchain_core/language_models/chat_models.py\u001b[0m in \u001b[0;36m_generate_with_cache\u001b[0;34m(self, messages, stop, run_manager, **kwargs)\u001b[0m\n\u001b[1;32m    669\u001b[0m         \u001b[0;32melse\u001b[0m\u001b[0;34m:\u001b[0m\u001b[0;34m\u001b[0m\u001b[0;34m\u001b[0m\u001b[0m\n\u001b[1;32m    670\u001b[0m             \u001b[0;32mif\u001b[0m \u001b[0minspect\u001b[0m\u001b[0;34m.\u001b[0m\u001b[0msignature\u001b[0m\u001b[0;34m(\u001b[0m\u001b[0mself\u001b[0m\u001b[0;34m.\u001b[0m\u001b[0m_generate\u001b[0m\u001b[0;34m)\u001b[0m\u001b[0;34m.\u001b[0m\u001b[0mparameters\u001b[0m\u001b[0;34m.\u001b[0m\u001b[0mget\u001b[0m\u001b[0;34m(\u001b[0m\u001b[0;34m\"run_manager\"\u001b[0m\u001b[0;34m)\u001b[0m\u001b[0;34m:\u001b[0m\u001b[0;34m\u001b[0m\u001b[0;34m\u001b[0m\u001b[0m\n\u001b[0;32m--> 671\u001b[0;31m                 result = self._generate(\n\u001b[0m\u001b[1;32m    672\u001b[0m                     \u001b[0mmessages\u001b[0m\u001b[0;34m,\u001b[0m \u001b[0mstop\u001b[0m\u001b[0;34m=\u001b[0m\u001b[0mstop\u001b[0m\u001b[0;34m,\u001b[0m \u001b[0mrun_manager\u001b[0m\u001b[0;34m=\u001b[0m\u001b[0mrun_manager\u001b[0m\u001b[0;34m,\u001b[0m \u001b[0;34m**\u001b[0m\u001b[0mkwargs\u001b[0m\u001b[0;34m\u001b[0m\u001b[0;34m\u001b[0m\u001b[0m\n\u001b[1;32m    673\u001b[0m                 )\n",
            "\u001b[0;32m/usr/local/lib/python3.10/dist-packages/langchain_google_genai/chat_models.py\u001b[0m in \u001b[0;36m_generate\u001b[0;34m(self, messages, stop, run_manager, tools, functions, safety_settings, tool_config, generation_config, **kwargs)\u001b[0m\n\u001b[1;32m    722\u001b[0m             \u001b[0mgeneration_config\u001b[0m\u001b[0;34m=\u001b[0m\u001b[0mgeneration_config\u001b[0m\u001b[0;34m,\u001b[0m\u001b[0;34m\u001b[0m\u001b[0;34m\u001b[0m\u001b[0m\n\u001b[1;32m    723\u001b[0m         )\n\u001b[0;32m--> 724\u001b[0;31m         response: GenerateContentResponse = _chat_with_retry(\n\u001b[0m\u001b[1;32m    725\u001b[0m             \u001b[0mrequest\u001b[0m\u001b[0;34m=\u001b[0m\u001b[0mrequest\u001b[0m\u001b[0;34m,\u001b[0m\u001b[0;34m\u001b[0m\u001b[0;34m\u001b[0m\u001b[0m\n\u001b[1;32m    726\u001b[0m             \u001b[0;34m**\u001b[0m\u001b[0mkwargs\u001b[0m\u001b[0;34m,\u001b[0m\u001b[0;34m\u001b[0m\u001b[0;34m\u001b[0m\u001b[0m\n",
            "\u001b[0;32m/usr/local/lib/python3.10/dist-packages/langchain_google_genai/chat_models.py\u001b[0m in \u001b[0;36m_chat_with_retry\u001b[0;34m(generation_method, **kwargs)\u001b[0m\n\u001b[1;32m    186\u001b[0m             \u001b[0;32mraise\u001b[0m \u001b[0me\u001b[0m\u001b[0;34m\u001b[0m\u001b[0;34m\u001b[0m\u001b[0m\n\u001b[1;32m    187\u001b[0m \u001b[0;34m\u001b[0m\u001b[0m\n\u001b[0;32m--> 188\u001b[0;31m     \u001b[0;32mreturn\u001b[0m \u001b[0m_chat_with_retry\u001b[0m\u001b[0;34m(\u001b[0m\u001b[0;34m**\u001b[0m\u001b[0mkwargs\u001b[0m\u001b[0;34m)\u001b[0m\u001b[0;34m\u001b[0m\u001b[0;34m\u001b[0m\u001b[0m\n\u001b[0m\u001b[1;32m    189\u001b[0m \u001b[0;34m\u001b[0m\u001b[0m\n\u001b[1;32m    190\u001b[0m \u001b[0;34m\u001b[0m\u001b[0m\n",
            "\u001b[0;32m/usr/local/lib/python3.10/dist-packages/tenacity/__init__.py\u001b[0m in \u001b[0;36mwrapped_f\u001b[0;34m(*args, **kw)\u001b[0m\n\u001b[1;32m    328\u001b[0m         )\n\u001b[1;32m    329\u001b[0m         \u001b[0;32mdef\u001b[0m \u001b[0mwrapped_f\u001b[0m\u001b[0;34m(\u001b[0m\u001b[0;34m*\u001b[0m\u001b[0margs\u001b[0m\u001b[0;34m:\u001b[0m \u001b[0mt\u001b[0m\u001b[0;34m.\u001b[0m\u001b[0mAny\u001b[0m\u001b[0;34m,\u001b[0m \u001b[0;34m**\u001b[0m\u001b[0mkw\u001b[0m\u001b[0;34m:\u001b[0m \u001b[0mt\u001b[0m\u001b[0;34m.\u001b[0m\u001b[0mAny\u001b[0m\u001b[0;34m)\u001b[0m \u001b[0;34m->\u001b[0m \u001b[0mt\u001b[0m\u001b[0;34m.\u001b[0m\u001b[0mAny\u001b[0m\u001b[0;34m:\u001b[0m\u001b[0;34m\u001b[0m\u001b[0;34m\u001b[0m\u001b[0m\n\u001b[0;32m--> 330\u001b[0;31m             \u001b[0;32mreturn\u001b[0m \u001b[0mself\u001b[0m\u001b[0;34m(\u001b[0m\u001b[0mf\u001b[0m\u001b[0;34m,\u001b[0m \u001b[0;34m*\u001b[0m\u001b[0margs\u001b[0m\u001b[0;34m,\u001b[0m \u001b[0;34m**\u001b[0m\u001b[0mkw\u001b[0m\u001b[0;34m)\u001b[0m\u001b[0;34m\u001b[0m\u001b[0;34m\u001b[0m\u001b[0m\n\u001b[0m\u001b[1;32m    331\u001b[0m \u001b[0;34m\u001b[0m\u001b[0m\n\u001b[1;32m    332\u001b[0m         \u001b[0;32mdef\u001b[0m \u001b[0mretry_with\u001b[0m\u001b[0;34m(\u001b[0m\u001b[0;34m*\u001b[0m\u001b[0margs\u001b[0m\u001b[0;34m:\u001b[0m \u001b[0mt\u001b[0m\u001b[0;34m.\u001b[0m\u001b[0mAny\u001b[0m\u001b[0;34m,\u001b[0m \u001b[0;34m**\u001b[0m\u001b[0mkwargs\u001b[0m\u001b[0;34m:\u001b[0m \u001b[0mt\u001b[0m\u001b[0;34m.\u001b[0m\u001b[0mAny\u001b[0m\u001b[0;34m)\u001b[0m \u001b[0;34m->\u001b[0m \u001b[0mWrappedFn\u001b[0m\u001b[0;34m:\u001b[0m\u001b[0;34m\u001b[0m\u001b[0;34m\u001b[0m\u001b[0m\n",
            "\u001b[0;32m/usr/local/lib/python3.10/dist-packages/tenacity/__init__.py\u001b[0m in \u001b[0;36m__call__\u001b[0;34m(self, fn, *args, **kwargs)\u001b[0m\n\u001b[1;32m    465\u001b[0m         \u001b[0mretry_state\u001b[0m \u001b[0;34m=\u001b[0m \u001b[0mRetryCallState\u001b[0m\u001b[0;34m(\u001b[0m\u001b[0mretry_object\u001b[0m\u001b[0;34m=\u001b[0m\u001b[0mself\u001b[0m\u001b[0;34m,\u001b[0m \u001b[0mfn\u001b[0m\u001b[0;34m=\u001b[0m\u001b[0mfn\u001b[0m\u001b[0;34m,\u001b[0m \u001b[0margs\u001b[0m\u001b[0;34m=\u001b[0m\u001b[0margs\u001b[0m\u001b[0;34m,\u001b[0m \u001b[0mkwargs\u001b[0m\u001b[0;34m=\u001b[0m\u001b[0mkwargs\u001b[0m\u001b[0;34m)\u001b[0m\u001b[0;34m\u001b[0m\u001b[0;34m\u001b[0m\u001b[0m\n\u001b[1;32m    466\u001b[0m         \u001b[0;32mwhile\u001b[0m \u001b[0;32mTrue\u001b[0m\u001b[0;34m:\u001b[0m\u001b[0;34m\u001b[0m\u001b[0;34m\u001b[0m\u001b[0m\n\u001b[0;32m--> 467\u001b[0;31m             \u001b[0mdo\u001b[0m \u001b[0;34m=\u001b[0m \u001b[0mself\u001b[0m\u001b[0;34m.\u001b[0m\u001b[0miter\u001b[0m\u001b[0;34m(\u001b[0m\u001b[0mretry_state\u001b[0m\u001b[0;34m=\u001b[0m\u001b[0mretry_state\u001b[0m\u001b[0;34m)\u001b[0m\u001b[0;34m\u001b[0m\u001b[0;34m\u001b[0m\u001b[0m\n\u001b[0m\u001b[1;32m    468\u001b[0m             \u001b[0;32mif\u001b[0m \u001b[0misinstance\u001b[0m\u001b[0;34m(\u001b[0m\u001b[0mdo\u001b[0m\u001b[0;34m,\u001b[0m \u001b[0mDoAttempt\u001b[0m\u001b[0;34m)\u001b[0m\u001b[0;34m:\u001b[0m\u001b[0;34m\u001b[0m\u001b[0;34m\u001b[0m\u001b[0m\n\u001b[1;32m    469\u001b[0m                 \u001b[0;32mtry\u001b[0m\u001b[0;34m:\u001b[0m\u001b[0;34m\u001b[0m\u001b[0;34m\u001b[0m\u001b[0m\n",
            "\u001b[0;32m/usr/local/lib/python3.10/dist-packages/tenacity/__init__.py\u001b[0m in \u001b[0;36miter\u001b[0;34m(self, retry_state)\u001b[0m\n\u001b[1;32m    366\u001b[0m         \u001b[0mresult\u001b[0m \u001b[0;34m=\u001b[0m \u001b[0;32mNone\u001b[0m\u001b[0;34m\u001b[0m\u001b[0;34m\u001b[0m\u001b[0m\n\u001b[1;32m    367\u001b[0m         \u001b[0;32mfor\u001b[0m \u001b[0maction\u001b[0m \u001b[0;32min\u001b[0m \u001b[0mself\u001b[0m\u001b[0;34m.\u001b[0m\u001b[0miter_state\u001b[0m\u001b[0;34m.\u001b[0m\u001b[0mactions\u001b[0m\u001b[0;34m:\u001b[0m\u001b[0;34m\u001b[0m\u001b[0;34m\u001b[0m\u001b[0m\n\u001b[0;32m--> 368\u001b[0;31m             \u001b[0mresult\u001b[0m \u001b[0;34m=\u001b[0m \u001b[0maction\u001b[0m\u001b[0;34m(\u001b[0m\u001b[0mretry_state\u001b[0m\u001b[0;34m)\u001b[0m\u001b[0;34m\u001b[0m\u001b[0;34m\u001b[0m\u001b[0m\n\u001b[0m\u001b[1;32m    369\u001b[0m         \u001b[0;32mreturn\u001b[0m \u001b[0mresult\u001b[0m\u001b[0;34m\u001b[0m\u001b[0;34m\u001b[0m\u001b[0m\n\u001b[1;32m    370\u001b[0m \u001b[0;34m\u001b[0m\u001b[0m\n",
            "\u001b[0;32m/usr/local/lib/python3.10/dist-packages/tenacity/__init__.py\u001b[0m in \u001b[0;36m<lambda>\u001b[0;34m(rs)\u001b[0m\n\u001b[1;32m    388\u001b[0m     \u001b[0;32mdef\u001b[0m \u001b[0m_post_retry_check_actions\u001b[0m\u001b[0;34m(\u001b[0m\u001b[0mself\u001b[0m\u001b[0;34m,\u001b[0m \u001b[0mretry_state\u001b[0m\u001b[0;34m:\u001b[0m \u001b[0;34m\"RetryCallState\"\u001b[0m\u001b[0;34m)\u001b[0m \u001b[0;34m->\u001b[0m \u001b[0;32mNone\u001b[0m\u001b[0;34m:\u001b[0m\u001b[0;34m\u001b[0m\u001b[0;34m\u001b[0m\u001b[0m\n\u001b[1;32m    389\u001b[0m         \u001b[0;32mif\u001b[0m \u001b[0;32mnot\u001b[0m \u001b[0;34m(\u001b[0m\u001b[0mself\u001b[0m\u001b[0;34m.\u001b[0m\u001b[0miter_state\u001b[0m\u001b[0;34m.\u001b[0m\u001b[0mis_explicit_retry\u001b[0m \u001b[0;32mor\u001b[0m \u001b[0mself\u001b[0m\u001b[0;34m.\u001b[0m\u001b[0miter_state\u001b[0m\u001b[0;34m.\u001b[0m\u001b[0mretry_run_result\u001b[0m\u001b[0;34m)\u001b[0m\u001b[0;34m:\u001b[0m\u001b[0;34m\u001b[0m\u001b[0;34m\u001b[0m\u001b[0m\n\u001b[0;32m--> 390\u001b[0;31m             \u001b[0mself\u001b[0m\u001b[0;34m.\u001b[0m\u001b[0m_add_action_func\u001b[0m\u001b[0;34m(\u001b[0m\u001b[0;32mlambda\u001b[0m \u001b[0mrs\u001b[0m\u001b[0;34m:\u001b[0m \u001b[0mrs\u001b[0m\u001b[0;34m.\u001b[0m\u001b[0moutcome\u001b[0m\u001b[0;34m.\u001b[0m\u001b[0mresult\u001b[0m\u001b[0;34m(\u001b[0m\u001b[0;34m)\u001b[0m\u001b[0;34m)\u001b[0m\u001b[0;34m\u001b[0m\u001b[0;34m\u001b[0m\u001b[0m\n\u001b[0m\u001b[1;32m    391\u001b[0m             \u001b[0;32mreturn\u001b[0m\u001b[0;34m\u001b[0m\u001b[0;34m\u001b[0m\u001b[0m\n\u001b[1;32m    392\u001b[0m \u001b[0;34m\u001b[0m\u001b[0m\n",
            "\u001b[0;32m/usr/lib/python3.10/concurrent/futures/_base.py\u001b[0m in \u001b[0;36mresult\u001b[0;34m(self, timeout)\u001b[0m\n\u001b[1;32m    449\u001b[0m                     \u001b[0;32mraise\u001b[0m \u001b[0mCancelledError\u001b[0m\u001b[0;34m(\u001b[0m\u001b[0;34m)\u001b[0m\u001b[0;34m\u001b[0m\u001b[0;34m\u001b[0m\u001b[0m\n\u001b[1;32m    450\u001b[0m                 \u001b[0;32melif\u001b[0m \u001b[0mself\u001b[0m\u001b[0;34m.\u001b[0m\u001b[0m_state\u001b[0m \u001b[0;34m==\u001b[0m \u001b[0mFINISHED\u001b[0m\u001b[0;34m:\u001b[0m\u001b[0;34m\u001b[0m\u001b[0;34m\u001b[0m\u001b[0m\n\u001b[0;32m--> 451\u001b[0;31m                     \u001b[0;32mreturn\u001b[0m \u001b[0mself\u001b[0m\u001b[0;34m.\u001b[0m\u001b[0m__get_result\u001b[0m\u001b[0;34m(\u001b[0m\u001b[0;34m)\u001b[0m\u001b[0;34m\u001b[0m\u001b[0;34m\u001b[0m\u001b[0m\n\u001b[0m\u001b[1;32m    452\u001b[0m \u001b[0;34m\u001b[0m\u001b[0m\n\u001b[1;32m    453\u001b[0m                 \u001b[0mself\u001b[0m\u001b[0;34m.\u001b[0m\u001b[0m_condition\u001b[0m\u001b[0;34m.\u001b[0m\u001b[0mwait\u001b[0m\u001b[0;34m(\u001b[0m\u001b[0mtimeout\u001b[0m\u001b[0;34m)\u001b[0m\u001b[0;34m\u001b[0m\u001b[0;34m\u001b[0m\u001b[0m\n",
            "\u001b[0;32m/usr/lib/python3.10/concurrent/futures/_base.py\u001b[0m in \u001b[0;36m__get_result\u001b[0;34m(self)\u001b[0m\n\u001b[1;32m    401\u001b[0m         \u001b[0;32mif\u001b[0m \u001b[0mself\u001b[0m\u001b[0;34m.\u001b[0m\u001b[0m_exception\u001b[0m\u001b[0;34m:\u001b[0m\u001b[0;34m\u001b[0m\u001b[0;34m\u001b[0m\u001b[0m\n\u001b[1;32m    402\u001b[0m             \u001b[0;32mtry\u001b[0m\u001b[0;34m:\u001b[0m\u001b[0;34m\u001b[0m\u001b[0;34m\u001b[0m\u001b[0m\n\u001b[0;32m--> 403\u001b[0;31m                 \u001b[0;32mraise\u001b[0m \u001b[0mself\u001b[0m\u001b[0;34m.\u001b[0m\u001b[0m_exception\u001b[0m\u001b[0;34m\u001b[0m\u001b[0;34m\u001b[0m\u001b[0m\n\u001b[0m\u001b[1;32m    404\u001b[0m             \u001b[0;32mfinally\u001b[0m\u001b[0;34m:\u001b[0m\u001b[0;34m\u001b[0m\u001b[0;34m\u001b[0m\u001b[0m\n\u001b[1;32m    405\u001b[0m                 \u001b[0;31m# Break a reference cycle with the exception in self._exception\u001b[0m\u001b[0;34m\u001b[0m\u001b[0;34m\u001b[0m\u001b[0m\n",
            "\u001b[0;32m/usr/local/lib/python3.10/dist-packages/tenacity/__init__.py\u001b[0m in \u001b[0;36m__call__\u001b[0;34m(self, fn, *args, **kwargs)\u001b[0m\n\u001b[1;32m    468\u001b[0m             \u001b[0;32mif\u001b[0m \u001b[0misinstance\u001b[0m\u001b[0;34m(\u001b[0m\u001b[0mdo\u001b[0m\u001b[0;34m,\u001b[0m \u001b[0mDoAttempt\u001b[0m\u001b[0;34m)\u001b[0m\u001b[0;34m:\u001b[0m\u001b[0;34m\u001b[0m\u001b[0;34m\u001b[0m\u001b[0m\n\u001b[1;32m    469\u001b[0m                 \u001b[0;32mtry\u001b[0m\u001b[0;34m:\u001b[0m\u001b[0;34m\u001b[0m\u001b[0;34m\u001b[0m\u001b[0m\n\u001b[0;32m--> 470\u001b[0;31m                     \u001b[0mresult\u001b[0m \u001b[0;34m=\u001b[0m \u001b[0mfn\u001b[0m\u001b[0;34m(\u001b[0m\u001b[0;34m*\u001b[0m\u001b[0margs\u001b[0m\u001b[0;34m,\u001b[0m \u001b[0;34m**\u001b[0m\u001b[0mkwargs\u001b[0m\u001b[0;34m)\u001b[0m\u001b[0;34m\u001b[0m\u001b[0;34m\u001b[0m\u001b[0m\n\u001b[0m\u001b[1;32m    471\u001b[0m                 \u001b[0;32mexcept\u001b[0m \u001b[0mBaseException\u001b[0m\u001b[0;34m:\u001b[0m  \u001b[0;31m# noqa: B902\u001b[0m\u001b[0;34m\u001b[0m\u001b[0;34m\u001b[0m\u001b[0m\n\u001b[1;32m    472\u001b[0m                     \u001b[0mretry_state\u001b[0m\u001b[0;34m.\u001b[0m\u001b[0mset_exception\u001b[0m\u001b[0;34m(\u001b[0m\u001b[0msys\u001b[0m\u001b[0;34m.\u001b[0m\u001b[0mexc_info\u001b[0m\u001b[0;34m(\u001b[0m\u001b[0;34m)\u001b[0m\u001b[0;34m)\u001b[0m  \u001b[0;31m# type: ignore[arg-type]\u001b[0m\u001b[0;34m\u001b[0m\u001b[0;34m\u001b[0m\u001b[0m\n",
            "\u001b[0;32m/usr/local/lib/python3.10/dist-packages/langchain_google_genai/chat_models.py\u001b[0m in \u001b[0;36m_chat_with_retry\u001b[0;34m(**kwargs)\u001b[0m\n\u001b[1;32m    180\u001b[0m \u001b[0;34m\u001b[0m\u001b[0m\n\u001b[1;32m    181\u001b[0m         \u001b[0;32mexcept\u001b[0m \u001b[0mgoogle\u001b[0m\u001b[0;34m.\u001b[0m\u001b[0mapi_core\u001b[0m\u001b[0;34m.\u001b[0m\u001b[0mexceptions\u001b[0m\u001b[0;34m.\u001b[0m\u001b[0mInvalidArgument\u001b[0m \u001b[0;32mas\u001b[0m \u001b[0me\u001b[0m\u001b[0;34m:\u001b[0m\u001b[0;34m\u001b[0m\u001b[0;34m\u001b[0m\u001b[0m\n\u001b[0;32m--> 182\u001b[0;31m             raise ChatGoogleGenerativeAIError(\n\u001b[0m\u001b[1;32m    183\u001b[0m                 \u001b[0;34mf\"Invalid argument provided to Gemini: {e}\"\u001b[0m\u001b[0;34m\u001b[0m\u001b[0;34m\u001b[0m\u001b[0m\n\u001b[1;32m    184\u001b[0m             ) from e\n",
            "\u001b[0;31mChatGoogleGenerativeAIError\u001b[0m: Invalid argument provided to Gemini: 400 Developer instruction is not enabled for models/gemini-pro"
          ]
        }
      ]
    },
    {
      "cell_type": "markdown",
      "source": [
        "## LLM 모델 파라미터 설정\n",
        "- 모델을 호출할 때 직접 파라미터를 전달하여 사용자가 모델을 세밀하게 조정할 수 있다."
      ],
      "metadata": {
        "id": "bzr3T8UYijuG"
      }
    },
    {
      "cell_type": "markdown",
      "source": [
        "###모델 생성"
      ],
      "metadata": {
        "id": "8ZZW4CRNmrsw"
      }
    },
    {
      "cell_type": "code",
      "source": [
        "%pip install -U --quiet langchain_openai"
      ],
      "metadata": {
        "colab": {
          "base_uri": "https://localhost:8080/"
        },
        "id": "kFX50651i1O3",
        "outputId": "f5a5f3cb-0266-476a-da98-1607d89677e5"
      },
      "execution_count": 81,
      "outputs": [
        {
          "output_type": "stream",
          "name": "stdout",
          "text": [
            "\u001b[2K     \u001b[90m━━━━━━━━━━━━━━━━━━━━━━━━━━━━━━━━━━━━━━━━\u001b[0m \u001b[32m320.6/320.6 kB\u001b[0m \u001b[31m6.1 MB/s\u001b[0m eta \u001b[36m0:00:00\u001b[0m\n",
            "\u001b[2K     \u001b[90m━━━━━━━━━━━━━━━━━━━━━━━━━━━━━━━━━━━━━━━━\u001b[0m \u001b[32m1.1/1.1 MB\u001b[0m \u001b[31m30.3 MB/s\u001b[0m eta \u001b[36m0:00:00\u001b[0m\n",
            "\u001b[2K     \u001b[90m━━━━━━━━━━━━━━━━━━━━━━━━━━━━━━━━━━━━━━━━\u001b[0m \u001b[32m75.6/75.6 kB\u001b[0m \u001b[31m8.0 MB/s\u001b[0m eta \u001b[36m0:00:00\u001b[0m\n",
            "\u001b[2K     \u001b[90m━━━━━━━━━━━━━━━━━━━━━━━━━━━━━━━━━━━━━━━━\u001b[0m \u001b[32m77.9/77.9 kB\u001b[0m \u001b[31m6.9 MB/s\u001b[0m eta \u001b[36m0:00:00\u001b[0m\n",
            "\u001b[2K     \u001b[90m━━━━━━━━━━━━━━━━━━━━━━━━━━━━━━━━━━━━━━━━\u001b[0m \u001b[32m58.3/58.3 kB\u001b[0m \u001b[31m4.5 MB/s\u001b[0m eta \u001b[36m0:00:00\u001b[0m\n",
            "\u001b[?25h"
          ]
        }
      ]
    },
    {
      "cell_type": "code",
      "source": [
        "from langchain_openai import ChatOpenAI\n",
        "\n",
        "# 모델 파라미터 설정\n",
        "params = {\n",
        "    \"temperature\": 0.7,         # 생성된 텍스트의 다양성 조정\n",
        "    \"max_tokens\": 100,          # 생성할 최대 토큰 수\n",
        "}\n",
        "\n",
        "kwargs = {\n",
        "    \"frequency_penalty\": 0.5,   # 이미 등장한 단어의 재등장 확률\n",
        "    \"presence_penalty\": 0.5,    # 새로운 단어의 도입을 장려\n",
        "    \"stop\": [\"\\n\"]              # 정지 시퀀스 설정\n",
        "\n",
        "}\n",
        "\n",
        "# 모델 인스턴스를 생성할 때 설정\n",
        "model = ChatGoogleGenerativeAI(model=\"gemini-pro\", **params, model_kwargs = kwargs)\n",
        "\n",
        "\n",
        "# 모델 호출\n",
        "question = \"태양계에서 가장 큰 행성은 무엇인가요?\"\n",
        "response = model.invoke(input=question)\n",
        "\n",
        "# 전체 응답 출력\n",
        "print(response)"
      ],
      "metadata": {
        "colab": {
          "base_uri": "https://localhost:8080/"
        },
        "id": "XVhhu8eKhhF6",
        "outputId": "b4442f2e-ec92-4847-e4b2-6c6c6da65ba0"
      },
      "execution_count": 84,
      "outputs": [
        {
          "output_type": "stream",
          "name": "stdout",
          "text": [
            "content='목성' response_metadata={'prompt_feedback': {'block_reason': 0, 'safety_ratings': []}, 'finish_reason': 'STOP', 'safety_ratings': [{'category': 'HARM_CATEGORY_SEXUALLY_EXPLICIT', 'probability': 'NEGLIGIBLE', 'blocked': False}, {'category': 'HARM_CATEGORY_HATE_SPEECH', 'probability': 'NEGLIGIBLE', 'blocked': False}, {'category': 'HARM_CATEGORY_HARASSMENT', 'probability': 'NEGLIGIBLE', 'blocked': False}, {'category': 'HARM_CATEGORY_DANGEROUS_CONTENT', 'probability': 'NEGLIGIBLE', 'blocked': False}]} id='run-0488e467-9d63-44b5-9f3f-c84685caa51c-0'\n"
          ]
        }
      ]
    },
    {
      "cell_type": "markdown",
      "source": [
        "### 모델 호출"
      ],
      "metadata": {
        "id": "ahhGKCgzmiyL"
      }
    },
    {
      "cell_type": "code",
      "source": [
        "# 모델 파라미터 설정\n",
        "params = {\n",
        "    \"temperature\": 0.7,         # 생성된 텍스트의 다양성 조정\n",
        "    \"max_tokens\": 10,          # 생성할 최대 토큰 수\n",
        "}\n",
        "\n",
        "# 모델 인스턴스를 호출할 때 전달\n",
        "response = model.invoke(input=question, **params)\n",
        "\n",
        "# 문자열 출력\n",
        "print(response.content)"
      ],
      "metadata": {
        "colab": {
          "base_uri": "https://localhost:8080/",
          "height": 385
        },
        "id": "YahUSBqillo7",
        "outputId": "e44fba09-e01b-49aa-8cd9-32ff7995528d"
      },
      "execution_count": 85,
      "outputs": [
        {
          "output_type": "error",
          "ename": "TypeError",
          "evalue": "GenerativeServiceClient.generate_content() got an unexpected keyword argument 'temperature'",
          "traceback": [
            "\u001b[0;31m---------------------------------------------------------------------------\u001b[0m",
            "\u001b[0;31mTypeError\u001b[0m                                 Traceback (most recent call last)",
            "\u001b[0;32m<ipython-input-85-b327096fabb0>\u001b[0m in \u001b[0;36m<cell line: 8>\u001b[0;34m()\u001b[0m\n\u001b[1;32m      6\u001b[0m \u001b[0;34m\u001b[0m\u001b[0m\n\u001b[1;32m      7\u001b[0m \u001b[0;31m# 모델 인스턴스를 호출할 때 전달\u001b[0m\u001b[0;34m\u001b[0m\u001b[0;34m\u001b[0m\u001b[0m\n\u001b[0;32m----> 8\u001b[0;31m \u001b[0mresponse\u001b[0m \u001b[0;34m=\u001b[0m \u001b[0mmodel\u001b[0m\u001b[0;34m.\u001b[0m\u001b[0minvoke\u001b[0m\u001b[0;34m(\u001b[0m\u001b[0minput\u001b[0m\u001b[0;34m=\u001b[0m\u001b[0mquestion\u001b[0m\u001b[0;34m,\u001b[0m \u001b[0;34m**\u001b[0m\u001b[0mparams\u001b[0m\u001b[0;34m)\u001b[0m\u001b[0;34m\u001b[0m\u001b[0;34m\u001b[0m\u001b[0m\n\u001b[0m\u001b[1;32m      9\u001b[0m \u001b[0;34m\u001b[0m\u001b[0m\n\u001b[1;32m     10\u001b[0m \u001b[0;31m# 문자열 출력\u001b[0m\u001b[0;34m\u001b[0m\u001b[0;34m\u001b[0m\u001b[0m\n",
            "\u001b[0;32m/usr/local/lib/python3.10/dist-packages/langchain_core/language_models/chat_models.py\u001b[0m in \u001b[0;36minvoke\u001b[0;34m(self, input, config, stop, **kwargs)\u001b[0m\n\u001b[1;32m    168\u001b[0m         return cast(\n\u001b[1;32m    169\u001b[0m             \u001b[0mChatGeneration\u001b[0m\u001b[0;34m,\u001b[0m\u001b[0;34m\u001b[0m\u001b[0;34m\u001b[0m\u001b[0m\n\u001b[0;32m--> 170\u001b[0;31m             self.generate_prompt(\n\u001b[0m\u001b[1;32m    171\u001b[0m                 \u001b[0;34m[\u001b[0m\u001b[0mself\u001b[0m\u001b[0;34m.\u001b[0m\u001b[0m_convert_input\u001b[0m\u001b[0;34m(\u001b[0m\u001b[0minput\u001b[0m\u001b[0;34m)\u001b[0m\u001b[0;34m]\u001b[0m\u001b[0;34m,\u001b[0m\u001b[0;34m\u001b[0m\u001b[0;34m\u001b[0m\u001b[0m\n\u001b[1;32m    172\u001b[0m                 \u001b[0mstop\u001b[0m\u001b[0;34m=\u001b[0m\u001b[0mstop\u001b[0m\u001b[0;34m,\u001b[0m\u001b[0;34m\u001b[0m\u001b[0;34m\u001b[0m\u001b[0m\n",
            "\u001b[0;32m/usr/local/lib/python3.10/dist-packages/langchain_core/language_models/chat_models.py\u001b[0m in \u001b[0;36mgenerate_prompt\u001b[0;34m(self, prompts, stop, callbacks, **kwargs)\u001b[0m\n\u001b[1;32m    597\u001b[0m     ) -> LLMResult:\n\u001b[1;32m    598\u001b[0m         \u001b[0mprompt_messages\u001b[0m \u001b[0;34m=\u001b[0m \u001b[0;34m[\u001b[0m\u001b[0mp\u001b[0m\u001b[0;34m.\u001b[0m\u001b[0mto_messages\u001b[0m\u001b[0;34m(\u001b[0m\u001b[0;34m)\u001b[0m \u001b[0;32mfor\u001b[0m \u001b[0mp\u001b[0m \u001b[0;32min\u001b[0m \u001b[0mprompts\u001b[0m\u001b[0;34m]\u001b[0m\u001b[0;34m\u001b[0m\u001b[0;34m\u001b[0m\u001b[0m\n\u001b[0;32m--> 599\u001b[0;31m         \u001b[0;32mreturn\u001b[0m \u001b[0mself\u001b[0m\u001b[0;34m.\u001b[0m\u001b[0mgenerate\u001b[0m\u001b[0;34m(\u001b[0m\u001b[0mprompt_messages\u001b[0m\u001b[0;34m,\u001b[0m \u001b[0mstop\u001b[0m\u001b[0;34m=\u001b[0m\u001b[0mstop\u001b[0m\u001b[0;34m,\u001b[0m \u001b[0mcallbacks\u001b[0m\u001b[0;34m=\u001b[0m\u001b[0mcallbacks\u001b[0m\u001b[0;34m,\u001b[0m \u001b[0;34m**\u001b[0m\u001b[0mkwargs\u001b[0m\u001b[0;34m)\u001b[0m\u001b[0;34m\u001b[0m\u001b[0;34m\u001b[0m\u001b[0m\n\u001b[0m\u001b[1;32m    600\u001b[0m \u001b[0;34m\u001b[0m\u001b[0m\n\u001b[1;32m    601\u001b[0m     async def agenerate_prompt(\n",
            "\u001b[0;32m/usr/local/lib/python3.10/dist-packages/langchain_core/language_models/chat_models.py\u001b[0m in \u001b[0;36mgenerate\u001b[0;34m(self, messages, stop, callbacks, tags, metadata, run_name, run_id, **kwargs)\u001b[0m\n\u001b[1;32m    454\u001b[0m                 \u001b[0;32mif\u001b[0m \u001b[0mrun_managers\u001b[0m\u001b[0;34m:\u001b[0m\u001b[0;34m\u001b[0m\u001b[0;34m\u001b[0m\u001b[0m\n\u001b[1;32m    455\u001b[0m                     \u001b[0mrun_managers\u001b[0m\u001b[0;34m[\u001b[0m\u001b[0mi\u001b[0m\u001b[0;34m]\u001b[0m\u001b[0;34m.\u001b[0m\u001b[0mon_llm_error\u001b[0m\u001b[0;34m(\u001b[0m\u001b[0me\u001b[0m\u001b[0;34m,\u001b[0m \u001b[0mresponse\u001b[0m\u001b[0;34m=\u001b[0m\u001b[0mLLMResult\u001b[0m\u001b[0;34m(\u001b[0m\u001b[0mgenerations\u001b[0m\u001b[0;34m=\u001b[0m\u001b[0;34m[\u001b[0m\u001b[0;34m]\u001b[0m\u001b[0;34m)\u001b[0m\u001b[0;34m)\u001b[0m\u001b[0;34m\u001b[0m\u001b[0;34m\u001b[0m\u001b[0m\n\u001b[0;32m--> 456\u001b[0;31m                 \u001b[0;32mraise\u001b[0m \u001b[0me\u001b[0m\u001b[0;34m\u001b[0m\u001b[0;34m\u001b[0m\u001b[0m\n\u001b[0m\u001b[1;32m    457\u001b[0m         flattened_outputs = [\n\u001b[1;32m    458\u001b[0m             \u001b[0mLLMResult\u001b[0m\u001b[0;34m(\u001b[0m\u001b[0mgenerations\u001b[0m\u001b[0;34m=\u001b[0m\u001b[0;34m[\u001b[0m\u001b[0mres\u001b[0m\u001b[0;34m.\u001b[0m\u001b[0mgenerations\u001b[0m\u001b[0;34m]\u001b[0m\u001b[0;34m,\u001b[0m \u001b[0mllm_output\u001b[0m\u001b[0;34m=\u001b[0m\u001b[0mres\u001b[0m\u001b[0;34m.\u001b[0m\u001b[0mllm_output\u001b[0m\u001b[0;34m)\u001b[0m  \u001b[0;31m# type: ignore[list-item]\u001b[0m\u001b[0;34m\u001b[0m\u001b[0;34m\u001b[0m\u001b[0m\n",
            "\u001b[0;32m/usr/local/lib/python3.10/dist-packages/langchain_core/language_models/chat_models.py\u001b[0m in \u001b[0;36mgenerate\u001b[0;34m(self, messages, stop, callbacks, tags, metadata, run_name, run_id, **kwargs)\u001b[0m\n\u001b[1;32m    444\u001b[0m             \u001b[0;32mtry\u001b[0m\u001b[0;34m:\u001b[0m\u001b[0;34m\u001b[0m\u001b[0;34m\u001b[0m\u001b[0m\n\u001b[1;32m    445\u001b[0m                 results.append(\n\u001b[0;32m--> 446\u001b[0;31m                     self._generate_with_cache(\n\u001b[0m\u001b[1;32m    447\u001b[0m                         \u001b[0mm\u001b[0m\u001b[0;34m,\u001b[0m\u001b[0;34m\u001b[0m\u001b[0;34m\u001b[0m\u001b[0m\n\u001b[1;32m    448\u001b[0m                         \u001b[0mstop\u001b[0m\u001b[0;34m=\u001b[0m\u001b[0mstop\u001b[0m\u001b[0;34m,\u001b[0m\u001b[0;34m\u001b[0m\u001b[0;34m\u001b[0m\u001b[0m\n",
            "\u001b[0;32m/usr/local/lib/python3.10/dist-packages/langchain_core/language_models/chat_models.py\u001b[0m in \u001b[0;36m_generate_with_cache\u001b[0;34m(self, messages, stop, run_manager, **kwargs)\u001b[0m\n\u001b[1;32m    669\u001b[0m         \u001b[0;32melse\u001b[0m\u001b[0;34m:\u001b[0m\u001b[0;34m\u001b[0m\u001b[0;34m\u001b[0m\u001b[0m\n\u001b[1;32m    670\u001b[0m             \u001b[0;32mif\u001b[0m \u001b[0minspect\u001b[0m\u001b[0;34m.\u001b[0m\u001b[0msignature\u001b[0m\u001b[0;34m(\u001b[0m\u001b[0mself\u001b[0m\u001b[0;34m.\u001b[0m\u001b[0m_generate\u001b[0m\u001b[0;34m)\u001b[0m\u001b[0;34m.\u001b[0m\u001b[0mparameters\u001b[0m\u001b[0;34m.\u001b[0m\u001b[0mget\u001b[0m\u001b[0;34m(\u001b[0m\u001b[0;34m\"run_manager\"\u001b[0m\u001b[0;34m)\u001b[0m\u001b[0;34m:\u001b[0m\u001b[0;34m\u001b[0m\u001b[0;34m\u001b[0m\u001b[0m\n\u001b[0;32m--> 671\u001b[0;31m                 result = self._generate(\n\u001b[0m\u001b[1;32m    672\u001b[0m                     \u001b[0mmessages\u001b[0m\u001b[0;34m,\u001b[0m \u001b[0mstop\u001b[0m\u001b[0;34m=\u001b[0m\u001b[0mstop\u001b[0m\u001b[0;34m,\u001b[0m \u001b[0mrun_manager\u001b[0m\u001b[0;34m=\u001b[0m\u001b[0mrun_manager\u001b[0m\u001b[0;34m,\u001b[0m \u001b[0;34m**\u001b[0m\u001b[0mkwargs\u001b[0m\u001b[0;34m\u001b[0m\u001b[0;34m\u001b[0m\u001b[0m\n\u001b[1;32m    673\u001b[0m                 )\n",
            "\u001b[0;32m/usr/local/lib/python3.10/dist-packages/langchain_google_genai/chat_models.py\u001b[0m in \u001b[0;36m_generate\u001b[0;34m(self, messages, stop, run_manager, tools, functions, safety_settings, tool_config, generation_config, **kwargs)\u001b[0m\n\u001b[1;32m    722\u001b[0m             \u001b[0mgeneration_config\u001b[0m\u001b[0;34m=\u001b[0m\u001b[0mgeneration_config\u001b[0m\u001b[0;34m,\u001b[0m\u001b[0;34m\u001b[0m\u001b[0;34m\u001b[0m\u001b[0m\n\u001b[1;32m    723\u001b[0m         )\n\u001b[0;32m--> 724\u001b[0;31m         response: GenerateContentResponse = _chat_with_retry(\n\u001b[0m\u001b[1;32m    725\u001b[0m             \u001b[0mrequest\u001b[0m\u001b[0;34m=\u001b[0m\u001b[0mrequest\u001b[0m\u001b[0;34m,\u001b[0m\u001b[0;34m\u001b[0m\u001b[0;34m\u001b[0m\u001b[0m\n\u001b[1;32m    726\u001b[0m             \u001b[0;34m**\u001b[0m\u001b[0mkwargs\u001b[0m\u001b[0;34m,\u001b[0m\u001b[0;34m\u001b[0m\u001b[0;34m\u001b[0m\u001b[0m\n",
            "\u001b[0;32m/usr/local/lib/python3.10/dist-packages/langchain_google_genai/chat_models.py\u001b[0m in \u001b[0;36m_chat_with_retry\u001b[0;34m(generation_method, **kwargs)\u001b[0m\n\u001b[1;32m    186\u001b[0m             \u001b[0;32mraise\u001b[0m \u001b[0me\u001b[0m\u001b[0;34m\u001b[0m\u001b[0;34m\u001b[0m\u001b[0m\n\u001b[1;32m    187\u001b[0m \u001b[0;34m\u001b[0m\u001b[0m\n\u001b[0;32m--> 188\u001b[0;31m     \u001b[0;32mreturn\u001b[0m \u001b[0m_chat_with_retry\u001b[0m\u001b[0;34m(\u001b[0m\u001b[0;34m**\u001b[0m\u001b[0mkwargs\u001b[0m\u001b[0;34m)\u001b[0m\u001b[0;34m\u001b[0m\u001b[0;34m\u001b[0m\u001b[0m\n\u001b[0m\u001b[1;32m    189\u001b[0m \u001b[0;34m\u001b[0m\u001b[0m\n\u001b[1;32m    190\u001b[0m \u001b[0;34m\u001b[0m\u001b[0m\n",
            "\u001b[0;32m/usr/local/lib/python3.10/dist-packages/tenacity/__init__.py\u001b[0m in \u001b[0;36mwrapped_f\u001b[0;34m(*args, **kw)\u001b[0m\n\u001b[1;32m    328\u001b[0m         )\n\u001b[1;32m    329\u001b[0m         \u001b[0;32mdef\u001b[0m \u001b[0mwrapped_f\u001b[0m\u001b[0;34m(\u001b[0m\u001b[0;34m*\u001b[0m\u001b[0margs\u001b[0m\u001b[0;34m:\u001b[0m \u001b[0mt\u001b[0m\u001b[0;34m.\u001b[0m\u001b[0mAny\u001b[0m\u001b[0;34m,\u001b[0m \u001b[0;34m**\u001b[0m\u001b[0mkw\u001b[0m\u001b[0;34m:\u001b[0m \u001b[0mt\u001b[0m\u001b[0;34m.\u001b[0m\u001b[0mAny\u001b[0m\u001b[0;34m)\u001b[0m \u001b[0;34m->\u001b[0m \u001b[0mt\u001b[0m\u001b[0;34m.\u001b[0m\u001b[0mAny\u001b[0m\u001b[0;34m:\u001b[0m\u001b[0;34m\u001b[0m\u001b[0;34m\u001b[0m\u001b[0m\n\u001b[0;32m--> 330\u001b[0;31m             \u001b[0;32mreturn\u001b[0m \u001b[0mself\u001b[0m\u001b[0;34m(\u001b[0m\u001b[0mf\u001b[0m\u001b[0;34m,\u001b[0m \u001b[0;34m*\u001b[0m\u001b[0margs\u001b[0m\u001b[0;34m,\u001b[0m \u001b[0;34m**\u001b[0m\u001b[0mkw\u001b[0m\u001b[0;34m)\u001b[0m\u001b[0;34m\u001b[0m\u001b[0;34m\u001b[0m\u001b[0m\n\u001b[0m\u001b[1;32m    331\u001b[0m \u001b[0;34m\u001b[0m\u001b[0m\n\u001b[1;32m    332\u001b[0m         \u001b[0;32mdef\u001b[0m \u001b[0mretry_with\u001b[0m\u001b[0;34m(\u001b[0m\u001b[0;34m*\u001b[0m\u001b[0margs\u001b[0m\u001b[0;34m:\u001b[0m \u001b[0mt\u001b[0m\u001b[0;34m.\u001b[0m\u001b[0mAny\u001b[0m\u001b[0;34m,\u001b[0m \u001b[0;34m**\u001b[0m\u001b[0mkwargs\u001b[0m\u001b[0;34m:\u001b[0m \u001b[0mt\u001b[0m\u001b[0;34m.\u001b[0m\u001b[0mAny\u001b[0m\u001b[0;34m)\u001b[0m \u001b[0;34m->\u001b[0m \u001b[0mWrappedFn\u001b[0m\u001b[0;34m:\u001b[0m\u001b[0;34m\u001b[0m\u001b[0;34m\u001b[0m\u001b[0m\n",
            "\u001b[0;32m/usr/local/lib/python3.10/dist-packages/tenacity/__init__.py\u001b[0m in \u001b[0;36m__call__\u001b[0;34m(self, fn, *args, **kwargs)\u001b[0m\n\u001b[1;32m    465\u001b[0m         \u001b[0mretry_state\u001b[0m \u001b[0;34m=\u001b[0m \u001b[0mRetryCallState\u001b[0m\u001b[0;34m(\u001b[0m\u001b[0mretry_object\u001b[0m\u001b[0;34m=\u001b[0m\u001b[0mself\u001b[0m\u001b[0;34m,\u001b[0m \u001b[0mfn\u001b[0m\u001b[0;34m=\u001b[0m\u001b[0mfn\u001b[0m\u001b[0;34m,\u001b[0m \u001b[0margs\u001b[0m\u001b[0;34m=\u001b[0m\u001b[0margs\u001b[0m\u001b[0;34m,\u001b[0m \u001b[0mkwargs\u001b[0m\u001b[0;34m=\u001b[0m\u001b[0mkwargs\u001b[0m\u001b[0;34m)\u001b[0m\u001b[0;34m\u001b[0m\u001b[0;34m\u001b[0m\u001b[0m\n\u001b[1;32m    466\u001b[0m         \u001b[0;32mwhile\u001b[0m \u001b[0;32mTrue\u001b[0m\u001b[0;34m:\u001b[0m\u001b[0;34m\u001b[0m\u001b[0;34m\u001b[0m\u001b[0m\n\u001b[0;32m--> 467\u001b[0;31m             \u001b[0mdo\u001b[0m \u001b[0;34m=\u001b[0m \u001b[0mself\u001b[0m\u001b[0;34m.\u001b[0m\u001b[0miter\u001b[0m\u001b[0;34m(\u001b[0m\u001b[0mretry_state\u001b[0m\u001b[0;34m=\u001b[0m\u001b[0mretry_state\u001b[0m\u001b[0;34m)\u001b[0m\u001b[0;34m\u001b[0m\u001b[0;34m\u001b[0m\u001b[0m\n\u001b[0m\u001b[1;32m    468\u001b[0m             \u001b[0;32mif\u001b[0m \u001b[0misinstance\u001b[0m\u001b[0;34m(\u001b[0m\u001b[0mdo\u001b[0m\u001b[0;34m,\u001b[0m \u001b[0mDoAttempt\u001b[0m\u001b[0;34m)\u001b[0m\u001b[0;34m:\u001b[0m\u001b[0;34m\u001b[0m\u001b[0;34m\u001b[0m\u001b[0m\n\u001b[1;32m    469\u001b[0m                 \u001b[0;32mtry\u001b[0m\u001b[0;34m:\u001b[0m\u001b[0;34m\u001b[0m\u001b[0;34m\u001b[0m\u001b[0m\n",
            "\u001b[0;32m/usr/local/lib/python3.10/dist-packages/tenacity/__init__.py\u001b[0m in \u001b[0;36miter\u001b[0;34m(self, retry_state)\u001b[0m\n\u001b[1;32m    366\u001b[0m         \u001b[0mresult\u001b[0m \u001b[0;34m=\u001b[0m \u001b[0;32mNone\u001b[0m\u001b[0;34m\u001b[0m\u001b[0;34m\u001b[0m\u001b[0m\n\u001b[1;32m    367\u001b[0m         \u001b[0;32mfor\u001b[0m \u001b[0maction\u001b[0m \u001b[0;32min\u001b[0m \u001b[0mself\u001b[0m\u001b[0;34m.\u001b[0m\u001b[0miter_state\u001b[0m\u001b[0;34m.\u001b[0m\u001b[0mactions\u001b[0m\u001b[0;34m:\u001b[0m\u001b[0;34m\u001b[0m\u001b[0;34m\u001b[0m\u001b[0m\n\u001b[0;32m--> 368\u001b[0;31m             \u001b[0mresult\u001b[0m \u001b[0;34m=\u001b[0m \u001b[0maction\u001b[0m\u001b[0;34m(\u001b[0m\u001b[0mretry_state\u001b[0m\u001b[0;34m)\u001b[0m\u001b[0;34m\u001b[0m\u001b[0;34m\u001b[0m\u001b[0m\n\u001b[0m\u001b[1;32m    369\u001b[0m         \u001b[0;32mreturn\u001b[0m \u001b[0mresult\u001b[0m\u001b[0;34m\u001b[0m\u001b[0;34m\u001b[0m\u001b[0m\n\u001b[1;32m    370\u001b[0m \u001b[0;34m\u001b[0m\u001b[0m\n",
            "\u001b[0;32m/usr/local/lib/python3.10/dist-packages/tenacity/__init__.py\u001b[0m in \u001b[0;36m<lambda>\u001b[0;34m(rs)\u001b[0m\n\u001b[1;32m    388\u001b[0m     \u001b[0;32mdef\u001b[0m \u001b[0m_post_retry_check_actions\u001b[0m\u001b[0;34m(\u001b[0m\u001b[0mself\u001b[0m\u001b[0;34m,\u001b[0m \u001b[0mretry_state\u001b[0m\u001b[0;34m:\u001b[0m \u001b[0;34m\"RetryCallState\"\u001b[0m\u001b[0;34m)\u001b[0m \u001b[0;34m->\u001b[0m \u001b[0;32mNone\u001b[0m\u001b[0;34m:\u001b[0m\u001b[0;34m\u001b[0m\u001b[0;34m\u001b[0m\u001b[0m\n\u001b[1;32m    389\u001b[0m         \u001b[0;32mif\u001b[0m \u001b[0;32mnot\u001b[0m \u001b[0;34m(\u001b[0m\u001b[0mself\u001b[0m\u001b[0;34m.\u001b[0m\u001b[0miter_state\u001b[0m\u001b[0;34m.\u001b[0m\u001b[0mis_explicit_retry\u001b[0m \u001b[0;32mor\u001b[0m \u001b[0mself\u001b[0m\u001b[0;34m.\u001b[0m\u001b[0miter_state\u001b[0m\u001b[0;34m.\u001b[0m\u001b[0mretry_run_result\u001b[0m\u001b[0;34m)\u001b[0m\u001b[0;34m:\u001b[0m\u001b[0;34m\u001b[0m\u001b[0;34m\u001b[0m\u001b[0m\n\u001b[0;32m--> 390\u001b[0;31m             \u001b[0mself\u001b[0m\u001b[0;34m.\u001b[0m\u001b[0m_add_action_func\u001b[0m\u001b[0;34m(\u001b[0m\u001b[0;32mlambda\u001b[0m \u001b[0mrs\u001b[0m\u001b[0;34m:\u001b[0m \u001b[0mrs\u001b[0m\u001b[0;34m.\u001b[0m\u001b[0moutcome\u001b[0m\u001b[0;34m.\u001b[0m\u001b[0mresult\u001b[0m\u001b[0;34m(\u001b[0m\u001b[0;34m)\u001b[0m\u001b[0;34m)\u001b[0m\u001b[0;34m\u001b[0m\u001b[0;34m\u001b[0m\u001b[0m\n\u001b[0m\u001b[1;32m    391\u001b[0m             \u001b[0;32mreturn\u001b[0m\u001b[0;34m\u001b[0m\u001b[0;34m\u001b[0m\u001b[0m\n\u001b[1;32m    392\u001b[0m \u001b[0;34m\u001b[0m\u001b[0m\n",
            "\u001b[0;32m/usr/lib/python3.10/concurrent/futures/_base.py\u001b[0m in \u001b[0;36mresult\u001b[0;34m(self, timeout)\u001b[0m\n\u001b[1;32m    449\u001b[0m                     \u001b[0;32mraise\u001b[0m \u001b[0mCancelledError\u001b[0m\u001b[0;34m(\u001b[0m\u001b[0;34m)\u001b[0m\u001b[0;34m\u001b[0m\u001b[0;34m\u001b[0m\u001b[0m\n\u001b[1;32m    450\u001b[0m                 \u001b[0;32melif\u001b[0m \u001b[0mself\u001b[0m\u001b[0;34m.\u001b[0m\u001b[0m_state\u001b[0m \u001b[0;34m==\u001b[0m \u001b[0mFINISHED\u001b[0m\u001b[0;34m:\u001b[0m\u001b[0;34m\u001b[0m\u001b[0;34m\u001b[0m\u001b[0m\n\u001b[0;32m--> 451\u001b[0;31m                     \u001b[0;32mreturn\u001b[0m \u001b[0mself\u001b[0m\u001b[0;34m.\u001b[0m\u001b[0m__get_result\u001b[0m\u001b[0;34m(\u001b[0m\u001b[0;34m)\u001b[0m\u001b[0;34m\u001b[0m\u001b[0;34m\u001b[0m\u001b[0m\n\u001b[0m\u001b[1;32m    452\u001b[0m \u001b[0;34m\u001b[0m\u001b[0m\n\u001b[1;32m    453\u001b[0m                 \u001b[0mself\u001b[0m\u001b[0;34m.\u001b[0m\u001b[0m_condition\u001b[0m\u001b[0;34m.\u001b[0m\u001b[0mwait\u001b[0m\u001b[0;34m(\u001b[0m\u001b[0mtimeout\u001b[0m\u001b[0;34m)\u001b[0m\u001b[0;34m\u001b[0m\u001b[0;34m\u001b[0m\u001b[0m\n",
            "\u001b[0;32m/usr/lib/python3.10/concurrent/futures/_base.py\u001b[0m in \u001b[0;36m__get_result\u001b[0;34m(self)\u001b[0m\n\u001b[1;32m    401\u001b[0m         \u001b[0;32mif\u001b[0m \u001b[0mself\u001b[0m\u001b[0;34m.\u001b[0m\u001b[0m_exception\u001b[0m\u001b[0;34m:\u001b[0m\u001b[0;34m\u001b[0m\u001b[0;34m\u001b[0m\u001b[0m\n\u001b[1;32m    402\u001b[0m             \u001b[0;32mtry\u001b[0m\u001b[0;34m:\u001b[0m\u001b[0;34m\u001b[0m\u001b[0;34m\u001b[0m\u001b[0m\n\u001b[0;32m--> 403\u001b[0;31m                 \u001b[0;32mraise\u001b[0m \u001b[0mself\u001b[0m\u001b[0;34m.\u001b[0m\u001b[0m_exception\u001b[0m\u001b[0;34m\u001b[0m\u001b[0;34m\u001b[0m\u001b[0m\n\u001b[0m\u001b[1;32m    404\u001b[0m             \u001b[0;32mfinally\u001b[0m\u001b[0;34m:\u001b[0m\u001b[0;34m\u001b[0m\u001b[0;34m\u001b[0m\u001b[0m\n\u001b[1;32m    405\u001b[0m                 \u001b[0;31m# Break a reference cycle with the exception in self._exception\u001b[0m\u001b[0;34m\u001b[0m\u001b[0;34m\u001b[0m\u001b[0m\n",
            "\u001b[0;32m/usr/local/lib/python3.10/dist-packages/tenacity/__init__.py\u001b[0m in \u001b[0;36m__call__\u001b[0;34m(self, fn, *args, **kwargs)\u001b[0m\n\u001b[1;32m    468\u001b[0m             \u001b[0;32mif\u001b[0m \u001b[0misinstance\u001b[0m\u001b[0;34m(\u001b[0m\u001b[0mdo\u001b[0m\u001b[0;34m,\u001b[0m \u001b[0mDoAttempt\u001b[0m\u001b[0;34m)\u001b[0m\u001b[0;34m:\u001b[0m\u001b[0;34m\u001b[0m\u001b[0;34m\u001b[0m\u001b[0m\n\u001b[1;32m    469\u001b[0m                 \u001b[0;32mtry\u001b[0m\u001b[0;34m:\u001b[0m\u001b[0;34m\u001b[0m\u001b[0;34m\u001b[0m\u001b[0m\n\u001b[0;32m--> 470\u001b[0;31m                     \u001b[0mresult\u001b[0m \u001b[0;34m=\u001b[0m \u001b[0mfn\u001b[0m\u001b[0;34m(\u001b[0m\u001b[0;34m*\u001b[0m\u001b[0margs\u001b[0m\u001b[0;34m,\u001b[0m \u001b[0;34m**\u001b[0m\u001b[0mkwargs\u001b[0m\u001b[0;34m)\u001b[0m\u001b[0;34m\u001b[0m\u001b[0;34m\u001b[0m\u001b[0m\n\u001b[0m\u001b[1;32m    471\u001b[0m                 \u001b[0;32mexcept\u001b[0m \u001b[0mBaseException\u001b[0m\u001b[0;34m:\u001b[0m  \u001b[0;31m# noqa: B902\u001b[0m\u001b[0;34m\u001b[0m\u001b[0;34m\u001b[0m\u001b[0m\n\u001b[1;32m    472\u001b[0m                     \u001b[0mretry_state\u001b[0m\u001b[0;34m.\u001b[0m\u001b[0mset_exception\u001b[0m\u001b[0;34m(\u001b[0m\u001b[0msys\u001b[0m\u001b[0;34m.\u001b[0m\u001b[0mexc_info\u001b[0m\u001b[0;34m(\u001b[0m\u001b[0;34m)\u001b[0m\u001b[0;34m)\u001b[0m  \u001b[0;31m# type: ignore[arg-type]\u001b[0m\u001b[0;34m\u001b[0m\u001b[0;34m\u001b[0m\u001b[0m\n",
            "\u001b[0;32m/usr/local/lib/python3.10/dist-packages/langchain_google_genai/chat_models.py\u001b[0m in \u001b[0;36m_chat_with_retry\u001b[0;34m(**kwargs)\u001b[0m\n\u001b[1;32m    184\u001b[0m             ) from e\n\u001b[1;32m    185\u001b[0m         \u001b[0;32mexcept\u001b[0m \u001b[0mException\u001b[0m \u001b[0;32mas\u001b[0m \u001b[0me\u001b[0m\u001b[0;34m:\u001b[0m\u001b[0;34m\u001b[0m\u001b[0;34m\u001b[0m\u001b[0m\n\u001b[0;32m--> 186\u001b[0;31m             \u001b[0;32mraise\u001b[0m \u001b[0me\u001b[0m\u001b[0;34m\u001b[0m\u001b[0;34m\u001b[0m\u001b[0m\n\u001b[0m\u001b[1;32m    187\u001b[0m \u001b[0;34m\u001b[0m\u001b[0m\n\u001b[1;32m    188\u001b[0m     \u001b[0;32mreturn\u001b[0m \u001b[0m_chat_with_retry\u001b[0m\u001b[0;34m(\u001b[0m\u001b[0;34m**\u001b[0m\u001b[0mkwargs\u001b[0m\u001b[0;34m)\u001b[0m\u001b[0;34m\u001b[0m\u001b[0;34m\u001b[0m\u001b[0m\n",
            "\u001b[0;32m/usr/local/lib/python3.10/dist-packages/langchain_google_genai/chat_models.py\u001b[0m in \u001b[0;36m_chat_with_retry\u001b[0;34m(**kwargs)\u001b[0m\n\u001b[1;32m    168\u001b[0m     \u001b[0;32mdef\u001b[0m \u001b[0m_chat_with_retry\u001b[0m\u001b[0;34m(\u001b[0m\u001b[0;34m**\u001b[0m\u001b[0mkwargs\u001b[0m\u001b[0;34m:\u001b[0m \u001b[0mAny\u001b[0m\u001b[0;34m)\u001b[0m \u001b[0;34m->\u001b[0m \u001b[0mAny\u001b[0m\u001b[0;34m:\u001b[0m\u001b[0;34m\u001b[0m\u001b[0;34m\u001b[0m\u001b[0m\n\u001b[1;32m    169\u001b[0m         \u001b[0;32mtry\u001b[0m\u001b[0;34m:\u001b[0m\u001b[0;34m\u001b[0m\u001b[0;34m\u001b[0m\u001b[0m\n\u001b[0;32m--> 170\u001b[0;31m             \u001b[0;32mreturn\u001b[0m \u001b[0mgeneration_method\u001b[0m\u001b[0;34m(\u001b[0m\u001b[0;34m**\u001b[0m\u001b[0mkwargs\u001b[0m\u001b[0;34m)\u001b[0m\u001b[0;34m\u001b[0m\u001b[0;34m\u001b[0m\u001b[0m\n\u001b[0m\u001b[1;32m    171\u001b[0m         \u001b[0;31m# Do not retry for these errors.\u001b[0m\u001b[0;34m\u001b[0m\u001b[0;34m\u001b[0m\u001b[0m\n\u001b[1;32m    172\u001b[0m         \u001b[0;32mexcept\u001b[0m \u001b[0mgoogle\u001b[0m\u001b[0;34m.\u001b[0m\u001b[0mapi_core\u001b[0m\u001b[0;34m.\u001b[0m\u001b[0mexceptions\u001b[0m\u001b[0;34m.\u001b[0m\u001b[0mFailedPrecondition\u001b[0m \u001b[0;32mas\u001b[0m \u001b[0mexc\u001b[0m\u001b[0;34m:\u001b[0m\u001b[0;34m\u001b[0m\u001b[0;34m\u001b[0m\u001b[0m\n",
            "\u001b[0;31mTypeError\u001b[0m: GenerativeServiceClient.generate_content() got an unexpected keyword argument 'temperature'"
          ]
        }
      ]
    },
    {
      "cell_type": "markdown",
      "source": [
        "## Output Parser\n",
        "- Output Parser는 모델의 출력을 처리하여 결과를 원하는 형식으로 변환.\n",
        "- **출력 포맷 변경**\n",
        "  - 모델의 출력을 사용자가 원하는 형식으로 변환 (json, csv ...)\n",
        "- **정보 추출**\n",
        "  - 원시 텍스트 출력에서 필요한 정보를 추출, 복잡한 텍스트 데이터에서 구조화된 정보를 얻을 수 있음\n",
        "- **결과 정제**\n",
        "  - 모델 출력에서 불필요한 정보를 제거하거나, 응답을 더 명확하게 만드는 후처리 작업\n",
        "- **조건부 로직 적용**\n",
        "  - 출력 데이터를 기반으로 특정 조건에 따른 처리를 수행\n",
        "  - 모델의 응답에 따라 사용자에게 추가 질문하거나 다른 모델 호출 가능"
      ],
      "metadata": {
        "id": "HIu8NVZ9m_HC"
      }
    },
    {
      "cell_type": "markdown",
      "source": [
        "### 사용 사례\n",
        "1. NLP 애플리케이션\n",
        "2. 데이터 분석\n",
        "3. 챗봇\n",
        "4. 컨텐츠 생성"
      ],
      "metadata": {
        "id": "BExRH5FFnoDR"
      }
    },
    {
      "cell_type": "markdown",
      "source": [
        "### CSV Parser"
      ],
      "metadata": {
        "id": "9UOHmAYPnvAA"
      }
    },
    {
      "cell_type": "code",
      "source": [
        "from langchain_core.output_parsers import CommaSeparatedListOutputParser\n",
        "\n",
        "output_parser = CommaSeparatedListOutputParser()\n",
        "format_instructions = output_parser.get_format_instructions()\n",
        "\n",
        "print(format_instructions)"
      ],
      "metadata": {
        "colab": {
          "base_uri": "https://localhost:8080/"
        },
        "id": "1tmatV5XmktE",
        "outputId": "696b5c0f-5c05-42a1-982b-5ed69da2f560"
      },
      "execution_count": 86,
      "outputs": [
        {
          "output_type": "stream",
          "name": "stdout",
          "text": [
            "Your response should be a list of comma separated values, eg: `foo, bar, baz` or `foo,bar,baz`\n"
          ]
        }
      ]
    },
    {
      "cell_type": "code",
      "source": [
        "from langchain_core.prompts import PromptTemplate\n",
        "\n",
        "prompt = PromptTemplate(\n",
        "    template=\"List five {subject}.\\n{format_instructions}\",\n",
        "    input_variables=[\"subject\"],\n",
        "    partial_variables={\"format_instructions\": format_instructions},\n",
        ")\n",
        "\n",
        "llm = ChatGoogleGenerativeAI(model=\"gemini-pro\", temperature=0.8,)\n",
        "\n",
        "chain = prompt | llm | output_parser\n",
        "\n",
        "# 쉼표로 구분된 결과 값 반환\n",
        "chain.invoke({\"subject\": \"popular Korean cusine\"})"
      ],
      "metadata": {
        "colab": {
          "base_uri": "https://localhost:8080/"
        },
        "id": "cRPfJMn5oBz4",
        "outputId": "d7df17fb-9805-4e7e-e6c1-1e0065f06b71"
      },
      "execution_count": 88,
      "outputs": [
        {
          "output_type": "execute_result",
          "data": {
            "text/plain": [
              "['Kimchi', 'Bibimbap', 'Samgyeopsal', 'Tteokbokki', 'Bulgogi']"
            ]
          },
          "metadata": {},
          "execution_count": 88
        }
      ]
    },
    {
      "cell_type": "markdown",
      "source": [
        "### Json Parser"
      ],
      "metadata": {
        "id": "1ljAeSEpoyAP"
      }
    },
    {
      "cell_type": "code",
      "source": [
        "from langchain_core.output_parsers import JsonOutputParser\n",
        "from langchain_core.pydantic_v1 import BaseModel, Field\n",
        "\n",
        "# 자료구조 정의 (pydantic)\n",
        "class CusineRecipe(BaseModel):\n",
        "    name: str = Field(description=\"name of a cusine\")\n",
        "    recipe: str = Field(description=\"recipe to cook the cusine\")\n",
        "\n",
        "# 출력 파서 정의\n",
        "output_parser = JsonOutputParser(pydantic_object=CusineRecipe)\n",
        "\n",
        "format_instructions = output_parser.get_format_instructions()\n",
        "\n",
        "print(format_instructions)"
      ],
      "metadata": {
        "colab": {
          "base_uri": "https://localhost:8080/"
        },
        "id": "gsn_OERKoh11",
        "outputId": "763ce4e1-d815-4a39-b374-93780fdbdab5"
      },
      "execution_count": 89,
      "outputs": [
        {
          "output_type": "stream",
          "name": "stdout",
          "text": [
            "The output should be formatted as a JSON instance that conforms to the JSON schema below.\n",
            "\n",
            "As an example, for the schema {\"properties\": {\"foo\": {\"title\": \"Foo\", \"description\": \"a list of strings\", \"type\": \"array\", \"items\": {\"type\": \"string\"}}}, \"required\": [\"foo\"]}\n",
            "the object {\"foo\": [\"bar\", \"baz\"]} is a well-formatted instance of the schema. The object {\"properties\": {\"foo\": [\"bar\", \"baz\"]}} is not well-formatted.\n",
            "\n",
            "Here is the output schema:\n",
            "```\n",
            "{\"properties\": {\"name\": {\"title\": \"Name\", \"description\": \"name of a cusine\", \"type\": \"string\"}, \"recipe\": {\"title\": \"Recipe\", \"description\": \"recipe to cook the cusine\", \"type\": \"string\"}}, \"required\": [\"name\", \"recipe\"]}\n",
            "```\n"
          ]
        }
      ]
    },
    {
      "cell_type": "code",
      "source": [
        "# prompt 구성\n",
        "prompt = PromptTemplate(\n",
        "    template=\"Answer the user query.\\n{format_instructions}\\n{query}\\n\",\n",
        "    input_variables=[\"query\"],\n",
        "    partial_variables={\"format_instructions\": format_instructions},\n",
        ")\n",
        "\n",
        "print(prompt)"
      ],
      "metadata": {
        "colab": {
          "base_uri": "https://localhost:8080/"
        },
        "id": "lZ1LUEHFo9WD",
        "outputId": "c428a25a-0632-4ea9-bc0c-58a636c8e834"
      },
      "execution_count": 90,
      "outputs": [
        {
          "output_type": "stream",
          "name": "stdout",
          "text": [
            "input_variables=['query'] partial_variables={'format_instructions': 'The output should be formatted as a JSON instance that conforms to the JSON schema below.\\n\\nAs an example, for the schema {\"properties\": {\"foo\": {\"title\": \"Foo\", \"description\": \"a list of strings\", \"type\": \"array\", \"items\": {\"type\": \"string\"}}}, \"required\": [\"foo\"]}\\nthe object {\"foo\": [\"bar\", \"baz\"]} is a well-formatted instance of the schema. The object {\"properties\": {\"foo\": [\"bar\", \"baz\"]}} is not well-formatted.\\n\\nHere is the output schema:\\n```\\n{\"properties\": {\"name\": {\"title\": \"Name\", \"description\": \"name of a cusine\", \"type\": \"string\"}, \"recipe\": {\"title\": \"Recipe\", \"description\": \"recipe to cook the cusine\", \"type\": \"string\"}}, \"required\": [\"name\", \"recipe\"]}\\n```'} template='Answer the user query.\\n{format_instructions}\\n{query}\\n'\n"
          ]
        }
      ]
    },
    {
      "cell_type": "code",
      "source": [
        "chain = prompt | model | output_parser\n",
        "\n",
        "chain.invoke({\"query\": \"Let me know how to cook Bibimbap\"})"
      ],
      "metadata": {
        "colab": {
          "base_uri": "https://localhost:8080/"
        },
        "id": "sRTUvSSso_LE",
        "outputId": "4bb54a41-0b38-4658-bbe6-35ee43f37055"
      },
      "execution_count": 91,
      "outputs": [
        {
          "output_type": "execute_result",
          "data": {
            "text/plain": [
              "{'name': 'Bibimbap',\n",
              " 'recipe': 'Ingredients:\\n\\n- 1 cup cooked white rice\\n- 1/2 pound ground beef\\n- 1/2 cup chopped onion\\n- 1/2 cup chopped green bell pepper\\n- 1/2 cup chopped carrots\\n- 1/4 cup soy sauce\\n- 1 tablespoon sesame oil\\n- 1 teaspoon ground black pepper\\n- 1/2 teaspoon garlic powder\\n- 1/4 teaspoon ginger powder\\n- 1 egg, beaten\\n- 1/4 cup shredded cheddar cheese\\n- 1/4 cup chopped green onions\\n- 1/4 cup sesame seeds\\n\\nInstructions:\\n\\n1. In a large skillet, brown the ground beef over medium heat. Drain off any excess grease.\\n2. Add the onion, green bell pepper, and carrots to the skillet and cook until softened, about 5 minutes.\\n3. Stir in the soy sauce, sesame oil, black pepper, garlic powder, and ginger powder. Cook for 1 minute more.\\n4. Push the beef mixture to one side of the skillet and pour in the egg. Cook until the egg is set, about 2 minutes.\\n5. Spread the rice evenly over the bottom of the skillet and top with the beef mixture, egg, cheese, green onions, and sesame seeds.\\n6. Serve immediately.'}"
            ]
          },
          "metadata": {},
          "execution_count": 91
        }
      ]
    },
    {
      "cell_type": "code",
      "source": [],
      "metadata": {
        "id": "sjGzc15bpBms"
      },
      "execution_count": null,
      "outputs": []
    }
  ]
}